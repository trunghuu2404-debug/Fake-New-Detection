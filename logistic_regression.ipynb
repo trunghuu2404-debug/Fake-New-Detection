{
  "cells": [
    {
      "cell_type": "markdown",
      "id": "0f431bec",
      "metadata": {
        "id": "0f431bec"
      },
      "source": [
        "# Explore datset"
      ]
    },
    {
      "cell_type": "code",
      "execution_count": 132,
      "id": "52752c65",
      "metadata": {
        "id": "52752c65"
      },
      "outputs": [],
      "source": [
        "import pandas as pd\n",
        "import numpy as np"
      ]
    },
    {
      "cell_type": "code",
      "execution_count": 133,
      "id": "f95c6c58",
      "metadata": {
        "colab": {
          "base_uri": "https://localhost:8080/"
        },
        "id": "f95c6c58",
        "outputId": "cfc42e9d-c15e-42de-c340-a0c0a115dc4e"
      },
      "outputs": [
        {
          "name": "stdout",
          "output_type": "stream",
          "text": [
            "dataset\\Fake.csv\n",
            "dataset\\True.csv\n"
          ]
        }
      ],
      "source": [
        "import os\n",
        "for dirname, _, filenames in os.walk('dataset'):\n",
        "    for filename in filenames:\n",
        "        print(os.path.join(dirname, filename))"
      ]
    },
    {
      "cell_type": "code",
      "execution_count": 134,
      "id": "25a30f6b",
      "metadata": {
        "id": "25a30f6b"
      },
      "outputs": [],
      "source": [
        "#loading all data\n",
        "fake = pd.read_csv('dataset/Fake.csv')\n",
        "true = pd.read_csv('dataset/True.csv')"
      ]
    },
    {
      "cell_type": "code",
      "execution_count": 135,
      "id": "5b6844d3",
      "metadata": {
        "colab": {
          "base_uri": "https://localhost:8080/",
          "height": 206
        },
        "id": "5b6844d3",
        "outputId": "8026325d-70c5-4f79-c557-1c56c3139d9d"
      },
      "outputs": [
        {
          "data": {
            "text/html": [
              "<div>\n",
              "<style scoped>\n",
              "    .dataframe tbody tr th:only-of-type {\n",
              "        vertical-align: middle;\n",
              "    }\n",
              "\n",
              "    .dataframe tbody tr th {\n",
              "        vertical-align: top;\n",
              "    }\n",
              "\n",
              "    .dataframe thead th {\n",
              "        text-align: right;\n",
              "    }\n",
              "</style>\n",
              "<table border=\"1\" class=\"dataframe\">\n",
              "  <thead>\n",
              "    <tr style=\"text-align: right;\">\n",
              "      <th></th>\n",
              "      <th>title</th>\n",
              "      <th>text</th>\n",
              "      <th>subject</th>\n",
              "      <th>date</th>\n",
              "    </tr>\n",
              "  </thead>\n",
              "  <tbody>\n",
              "    <tr>\n",
              "      <th>0</th>\n",
              "      <td>Donald Trump Sends Out Embarrassing New Year’...</td>\n",
              "      <td>Donald Trump just couldn t wish all Americans ...</td>\n",
              "      <td>News</td>\n",
              "      <td>December 31, 2017</td>\n",
              "    </tr>\n",
              "    <tr>\n",
              "      <th>1</th>\n",
              "      <td>Drunk Bragging Trump Staffer Started Russian ...</td>\n",
              "      <td>House Intelligence Committee Chairman Devin Nu...</td>\n",
              "      <td>News</td>\n",
              "      <td>December 31, 2017</td>\n",
              "    </tr>\n",
              "    <tr>\n",
              "      <th>2</th>\n",
              "      <td>Sheriff David Clarke Becomes An Internet Joke...</td>\n",
              "      <td>On Friday, it was revealed that former Milwauk...</td>\n",
              "      <td>News</td>\n",
              "      <td>December 30, 2017</td>\n",
              "    </tr>\n",
              "    <tr>\n",
              "      <th>3</th>\n",
              "      <td>Trump Is So Obsessed He Even Has Obama’s Name...</td>\n",
              "      <td>On Christmas day, Donald Trump announced that ...</td>\n",
              "      <td>News</td>\n",
              "      <td>December 29, 2017</td>\n",
              "    </tr>\n",
              "    <tr>\n",
              "      <th>4</th>\n",
              "      <td>Pope Francis Just Called Out Donald Trump Dur...</td>\n",
              "      <td>Pope Francis used his annual Christmas Day mes...</td>\n",
              "      <td>News</td>\n",
              "      <td>December 25, 2017</td>\n",
              "    </tr>\n",
              "  </tbody>\n",
              "</table>\n",
              "</div>"
            ],
            "text/plain": [
              "                                               title  \\\n",
              "0   Donald Trump Sends Out Embarrassing New Year’...   \n",
              "1   Drunk Bragging Trump Staffer Started Russian ...   \n",
              "2   Sheriff David Clarke Becomes An Internet Joke...   \n",
              "3   Trump Is So Obsessed He Even Has Obama’s Name...   \n",
              "4   Pope Francis Just Called Out Donald Trump Dur...   \n",
              "\n",
              "                                                text subject  \\\n",
              "0  Donald Trump just couldn t wish all Americans ...    News   \n",
              "1  House Intelligence Committee Chairman Devin Nu...    News   \n",
              "2  On Friday, it was revealed that former Milwauk...    News   \n",
              "3  On Christmas day, Donald Trump announced that ...    News   \n",
              "4  Pope Francis used his annual Christmas Day mes...    News   \n",
              "\n",
              "                date  \n",
              "0  December 31, 2017  \n",
              "1  December 31, 2017  \n",
              "2  December 30, 2017  \n",
              "3  December 29, 2017  \n",
              "4  December 25, 2017  "
            ]
          },
          "execution_count": 135,
          "metadata": {},
          "output_type": "execute_result"
        }
      ],
      "source": [
        "fake.head(5)"
      ]
    },
    {
      "cell_type": "code",
      "execution_count": 136,
      "id": "b1c4d077",
      "metadata": {
        "colab": {
          "base_uri": "https://localhost:8080/",
          "height": 206
        },
        "id": "b1c4d077",
        "outputId": "1759da34-96f7-4903-f864-99750fae3a16"
      },
      "outputs": [
        {
          "data": {
            "text/html": [
              "<div>\n",
              "<style scoped>\n",
              "    .dataframe tbody tr th:only-of-type {\n",
              "        vertical-align: middle;\n",
              "    }\n",
              "\n",
              "    .dataframe tbody tr th {\n",
              "        vertical-align: top;\n",
              "    }\n",
              "\n",
              "    .dataframe thead th {\n",
              "        text-align: right;\n",
              "    }\n",
              "</style>\n",
              "<table border=\"1\" class=\"dataframe\">\n",
              "  <thead>\n",
              "    <tr style=\"text-align: right;\">\n",
              "      <th></th>\n",
              "      <th>title</th>\n",
              "      <th>text</th>\n",
              "      <th>subject</th>\n",
              "      <th>date</th>\n",
              "    </tr>\n",
              "  </thead>\n",
              "  <tbody>\n",
              "    <tr>\n",
              "      <th>23476</th>\n",
              "      <td>McPain: John McCain Furious That Iran Treated ...</td>\n",
              "      <td>21st Century Wire says As 21WIRE reported earl...</td>\n",
              "      <td>Middle-east</td>\n",
              "      <td>January 16, 2016</td>\n",
              "    </tr>\n",
              "    <tr>\n",
              "      <th>23477</th>\n",
              "      <td>JUSTICE? Yahoo Settles E-mail Privacy Class-ac...</td>\n",
              "      <td>21st Century Wire says It s a familiar theme. ...</td>\n",
              "      <td>Middle-east</td>\n",
              "      <td>January 16, 2016</td>\n",
              "    </tr>\n",
              "    <tr>\n",
              "      <th>23478</th>\n",
              "      <td>Sunnistan: US and Allied ‘Safe Zone’ Plan to T...</td>\n",
              "      <td>Patrick Henningsen  21st Century WireRemember ...</td>\n",
              "      <td>Middle-east</td>\n",
              "      <td>January 15, 2016</td>\n",
              "    </tr>\n",
              "    <tr>\n",
              "      <th>23479</th>\n",
              "      <td>How to Blow $700 Million: Al Jazeera America F...</td>\n",
              "      <td>21st Century Wire says Al Jazeera America will...</td>\n",
              "      <td>Middle-east</td>\n",
              "      <td>January 14, 2016</td>\n",
              "    </tr>\n",
              "    <tr>\n",
              "      <th>23480</th>\n",
              "      <td>10 U.S. Navy Sailors Held by Iranian Military ...</td>\n",
              "      <td>21st Century Wire says As 21WIRE predicted in ...</td>\n",
              "      <td>Middle-east</td>\n",
              "      <td>January 12, 2016</td>\n",
              "    </tr>\n",
              "  </tbody>\n",
              "</table>\n",
              "</div>"
            ],
            "text/plain": [
              "                                                   title  \\\n",
              "23476  McPain: John McCain Furious That Iran Treated ...   \n",
              "23477  JUSTICE? Yahoo Settles E-mail Privacy Class-ac...   \n",
              "23478  Sunnistan: US and Allied ‘Safe Zone’ Plan to T...   \n",
              "23479  How to Blow $700 Million: Al Jazeera America F...   \n",
              "23480  10 U.S. Navy Sailors Held by Iranian Military ...   \n",
              "\n",
              "                                                    text      subject  \\\n",
              "23476  21st Century Wire says As 21WIRE reported earl...  Middle-east   \n",
              "23477  21st Century Wire says It s a familiar theme. ...  Middle-east   \n",
              "23478  Patrick Henningsen  21st Century WireRemember ...  Middle-east   \n",
              "23479  21st Century Wire says Al Jazeera America will...  Middle-east   \n",
              "23480  21st Century Wire says As 21WIRE predicted in ...  Middle-east   \n",
              "\n",
              "                   date  \n",
              "23476  January 16, 2016  \n",
              "23477  January 16, 2016  \n",
              "23478  January 15, 2016  \n",
              "23479  January 14, 2016  \n",
              "23480  January 12, 2016  "
            ]
          },
          "execution_count": 136,
          "metadata": {},
          "output_type": "execute_result"
        }
      ],
      "source": [
        "fake.tail(5)"
      ]
    },
    {
      "cell_type": "code",
      "execution_count": 137,
      "id": "7650ba85",
      "metadata": {
        "colab": {
          "base_uri": "https://localhost:8080/",
          "height": 304
        },
        "id": "7650ba85",
        "outputId": "d735d2aa-89b8-4dd9-99e9-455e4c78564c"
      },
      "outputs": [
        {
          "data": {
            "text/plain": [
              "subject\n",
              "News               9050\n",
              "politics           6841\n",
              "left-news          4459\n",
              "Government News    1570\n",
              "US_News             783\n",
              "Middle-east         778\n",
              "Name: count, dtype: int64"
            ]
          },
          "execution_count": 137,
          "metadata": {},
          "output_type": "execute_result"
        }
      ],
      "source": [
        "fake[\"subject\"].value_counts()"
      ]
    },
    {
      "cell_type": "code",
      "execution_count": 138,
      "id": "6b23ac3a",
      "metadata": {
        "colab": {
          "base_uri": "https://localhost:8080/",
          "height": 206
        },
        "id": "6b23ac3a",
        "outputId": "60f47654-5e5c-4570-9e59-75509c15d7ea"
      },
      "outputs": [
        {
          "data": {
            "text/html": [
              "<div>\n",
              "<style scoped>\n",
              "    .dataframe tbody tr th:only-of-type {\n",
              "        vertical-align: middle;\n",
              "    }\n",
              "\n",
              "    .dataframe tbody tr th {\n",
              "        vertical-align: top;\n",
              "    }\n",
              "\n",
              "    .dataframe thead th {\n",
              "        text-align: right;\n",
              "    }\n",
              "</style>\n",
              "<table border=\"1\" class=\"dataframe\">\n",
              "  <thead>\n",
              "    <tr style=\"text-align: right;\">\n",
              "      <th></th>\n",
              "      <th>title</th>\n",
              "      <th>text</th>\n",
              "      <th>subject</th>\n",
              "      <th>date</th>\n",
              "    </tr>\n",
              "  </thead>\n",
              "  <tbody>\n",
              "    <tr>\n",
              "      <th>0</th>\n",
              "      <td>As U.S. budget fight looms, Republicans flip t...</td>\n",
              "      <td>WASHINGTON (Reuters) - The head of a conservat...</td>\n",
              "      <td>politicsNews</td>\n",
              "      <td>December 31, 2017</td>\n",
              "    </tr>\n",
              "    <tr>\n",
              "      <th>1</th>\n",
              "      <td>U.S. military to accept transgender recruits o...</td>\n",
              "      <td>WASHINGTON (Reuters) - Transgender people will...</td>\n",
              "      <td>politicsNews</td>\n",
              "      <td>December 29, 2017</td>\n",
              "    </tr>\n",
              "    <tr>\n",
              "      <th>2</th>\n",
              "      <td>Senior U.S. Republican senator: 'Let Mr. Muell...</td>\n",
              "      <td>WASHINGTON (Reuters) - The special counsel inv...</td>\n",
              "      <td>politicsNews</td>\n",
              "      <td>December 31, 2017</td>\n",
              "    </tr>\n",
              "    <tr>\n",
              "      <th>3</th>\n",
              "      <td>FBI Russia probe helped by Australian diplomat...</td>\n",
              "      <td>WASHINGTON (Reuters) - Trump campaign adviser ...</td>\n",
              "      <td>politicsNews</td>\n",
              "      <td>December 30, 2017</td>\n",
              "    </tr>\n",
              "    <tr>\n",
              "      <th>4</th>\n",
              "      <td>Trump wants Postal Service to charge 'much mor...</td>\n",
              "      <td>SEATTLE/WASHINGTON (Reuters) - President Donal...</td>\n",
              "      <td>politicsNews</td>\n",
              "      <td>December 29, 2017</td>\n",
              "    </tr>\n",
              "  </tbody>\n",
              "</table>\n",
              "</div>"
            ],
            "text/plain": [
              "                                               title  \\\n",
              "0  As U.S. budget fight looms, Republicans flip t...   \n",
              "1  U.S. military to accept transgender recruits o...   \n",
              "2  Senior U.S. Republican senator: 'Let Mr. Muell...   \n",
              "3  FBI Russia probe helped by Australian diplomat...   \n",
              "4  Trump wants Postal Service to charge 'much mor...   \n",
              "\n",
              "                                                text       subject  \\\n",
              "0  WASHINGTON (Reuters) - The head of a conservat...  politicsNews   \n",
              "1  WASHINGTON (Reuters) - Transgender people will...  politicsNews   \n",
              "2  WASHINGTON (Reuters) - The special counsel inv...  politicsNews   \n",
              "3  WASHINGTON (Reuters) - Trump campaign adviser ...  politicsNews   \n",
              "4  SEATTLE/WASHINGTON (Reuters) - President Donal...  politicsNews   \n",
              "\n",
              "                 date  \n",
              "0  December 31, 2017   \n",
              "1  December 29, 2017   \n",
              "2  December 31, 2017   \n",
              "3  December 30, 2017   \n",
              "4  December 29, 2017   "
            ]
          },
          "execution_count": 138,
          "metadata": {},
          "output_type": "execute_result"
        }
      ],
      "source": [
        "true.head(5)"
      ]
    },
    {
      "cell_type": "code",
      "execution_count": 139,
      "id": "69069966",
      "metadata": {
        "colab": {
          "base_uri": "https://localhost:8080/",
          "height": 206
        },
        "id": "69069966",
        "outputId": "82c774ba-3c5d-4428-ceeb-fa1011e7cf7f"
      },
      "outputs": [
        {
          "data": {
            "text/html": [
              "<div>\n",
              "<style scoped>\n",
              "    .dataframe tbody tr th:only-of-type {\n",
              "        vertical-align: middle;\n",
              "    }\n",
              "\n",
              "    .dataframe tbody tr th {\n",
              "        vertical-align: top;\n",
              "    }\n",
              "\n",
              "    .dataframe thead th {\n",
              "        text-align: right;\n",
              "    }\n",
              "</style>\n",
              "<table border=\"1\" class=\"dataframe\">\n",
              "  <thead>\n",
              "    <tr style=\"text-align: right;\">\n",
              "      <th></th>\n",
              "      <th>title</th>\n",
              "      <th>text</th>\n",
              "      <th>subject</th>\n",
              "      <th>date</th>\n",
              "    </tr>\n",
              "  </thead>\n",
              "  <tbody>\n",
              "    <tr>\n",
              "      <th>21412</th>\n",
              "      <td>'Fully committed' NATO backs new U.S. approach...</td>\n",
              "      <td>BRUSSELS (Reuters) - NATO allies on Tuesday we...</td>\n",
              "      <td>worldnews</td>\n",
              "      <td>August 22, 2017</td>\n",
              "    </tr>\n",
              "    <tr>\n",
              "      <th>21413</th>\n",
              "      <td>LexisNexis withdrew two products from Chinese ...</td>\n",
              "      <td>LONDON (Reuters) - LexisNexis, a provider of l...</td>\n",
              "      <td>worldnews</td>\n",
              "      <td>August 22, 2017</td>\n",
              "    </tr>\n",
              "    <tr>\n",
              "      <th>21414</th>\n",
              "      <td>Minsk cultural hub becomes haven from authorities</td>\n",
              "      <td>MINSK (Reuters) - In the shadow of disused Sov...</td>\n",
              "      <td>worldnews</td>\n",
              "      <td>August 22, 2017</td>\n",
              "    </tr>\n",
              "    <tr>\n",
              "      <th>21415</th>\n",
              "      <td>Vatican upbeat on possibility of Pope Francis ...</td>\n",
              "      <td>MOSCOW (Reuters) - Vatican Secretary of State ...</td>\n",
              "      <td>worldnews</td>\n",
              "      <td>August 22, 2017</td>\n",
              "    </tr>\n",
              "    <tr>\n",
              "      <th>21416</th>\n",
              "      <td>Indonesia to buy $1.14 billion worth of Russia...</td>\n",
              "      <td>JAKARTA (Reuters) - Indonesia will buy 11 Sukh...</td>\n",
              "      <td>worldnews</td>\n",
              "      <td>August 22, 2017</td>\n",
              "    </tr>\n",
              "  </tbody>\n",
              "</table>\n",
              "</div>"
            ],
            "text/plain": [
              "                                                   title  \\\n",
              "21412  'Fully committed' NATO backs new U.S. approach...   \n",
              "21413  LexisNexis withdrew two products from Chinese ...   \n",
              "21414  Minsk cultural hub becomes haven from authorities   \n",
              "21415  Vatican upbeat on possibility of Pope Francis ...   \n",
              "21416  Indonesia to buy $1.14 billion worth of Russia...   \n",
              "\n",
              "                                                    text    subject  \\\n",
              "21412  BRUSSELS (Reuters) - NATO allies on Tuesday we...  worldnews   \n",
              "21413  LONDON (Reuters) - LexisNexis, a provider of l...  worldnews   \n",
              "21414  MINSK (Reuters) - In the shadow of disused Sov...  worldnews   \n",
              "21415  MOSCOW (Reuters) - Vatican Secretary of State ...  worldnews   \n",
              "21416  JAKARTA (Reuters) - Indonesia will buy 11 Sukh...  worldnews   \n",
              "\n",
              "                   date  \n",
              "21412  August 22, 2017   \n",
              "21413  August 22, 2017   \n",
              "21414  August 22, 2017   \n",
              "21415  August 22, 2017   \n",
              "21416  August 22, 2017   "
            ]
          },
          "execution_count": 139,
          "metadata": {},
          "output_type": "execute_result"
        }
      ],
      "source": [
        "true.tail(5)"
      ]
    },
    {
      "cell_type": "code",
      "execution_count": 140,
      "id": "dafc2873",
      "metadata": {
        "colab": {
          "base_uri": "https://localhost:8080/",
          "height": 178
        },
        "id": "dafc2873",
        "outputId": "23d17065-3428-44bd-9095-d9f75646be6f"
      },
      "outputs": [
        {
          "data": {
            "text/plain": [
              "subject\n",
              "politicsNews    11272\n",
              "worldnews       10145\n",
              "Name: count, dtype: int64"
            ]
          },
          "execution_count": 140,
          "metadata": {},
          "output_type": "execute_result"
        }
      ],
      "source": [
        "true[\"subject\"].value_counts()"
      ]
    },
    {
      "cell_type": "code",
      "execution_count": 141,
      "id": "434d9756",
      "metadata": {
        "id": "434d9756"
      },
      "outputs": [],
      "source": [
        "#create label for whether fake or true, 0 for true, 1 for fake\n",
        "fake['category'] = 1\n",
        "true['category'] = 0"
      ]
    },
    {
      "cell_type": "code",
      "execution_count": 142,
      "id": "7a541710",
      "metadata": {
        "colab": {
          "base_uri": "https://localhost:8080/",
          "height": 206
        },
        "id": "7a541710",
        "outputId": "4c1a7112-ebdf-40cd-be44-1bb22eb68cfc"
      },
      "outputs": [
        {
          "data": {
            "text/html": [
              "<div>\n",
              "<style scoped>\n",
              "    .dataframe tbody tr th:only-of-type {\n",
              "        vertical-align: middle;\n",
              "    }\n",
              "\n",
              "    .dataframe tbody tr th {\n",
              "        vertical-align: top;\n",
              "    }\n",
              "\n",
              "    .dataframe thead th {\n",
              "        text-align: right;\n",
              "    }\n",
              "</style>\n",
              "<table border=\"1\" class=\"dataframe\">\n",
              "  <thead>\n",
              "    <tr style=\"text-align: right;\">\n",
              "      <th></th>\n",
              "      <th>title</th>\n",
              "      <th>text</th>\n",
              "      <th>subject</th>\n",
              "      <th>date</th>\n",
              "      <th>category</th>\n",
              "    </tr>\n",
              "  </thead>\n",
              "  <tbody>\n",
              "    <tr>\n",
              "      <th>0</th>\n",
              "      <td>As U.S. budget fight looms, Republicans flip t...</td>\n",
              "      <td>WASHINGTON (Reuters) - The head of a conservat...</td>\n",
              "      <td>politicsNews</td>\n",
              "      <td>December 31, 2017</td>\n",
              "      <td>0</td>\n",
              "    </tr>\n",
              "    <tr>\n",
              "      <th>1</th>\n",
              "      <td>U.S. military to accept transgender recruits o...</td>\n",
              "      <td>WASHINGTON (Reuters) - Transgender people will...</td>\n",
              "      <td>politicsNews</td>\n",
              "      <td>December 29, 2017</td>\n",
              "      <td>0</td>\n",
              "    </tr>\n",
              "    <tr>\n",
              "      <th>2</th>\n",
              "      <td>Senior U.S. Republican senator: 'Let Mr. Muell...</td>\n",
              "      <td>WASHINGTON (Reuters) - The special counsel inv...</td>\n",
              "      <td>politicsNews</td>\n",
              "      <td>December 31, 2017</td>\n",
              "      <td>0</td>\n",
              "    </tr>\n",
              "    <tr>\n",
              "      <th>3</th>\n",
              "      <td>FBI Russia probe helped by Australian diplomat...</td>\n",
              "      <td>WASHINGTON (Reuters) - Trump campaign adviser ...</td>\n",
              "      <td>politicsNews</td>\n",
              "      <td>December 30, 2017</td>\n",
              "      <td>0</td>\n",
              "    </tr>\n",
              "    <tr>\n",
              "      <th>4</th>\n",
              "      <td>Trump wants Postal Service to charge 'much mor...</td>\n",
              "      <td>SEATTLE/WASHINGTON (Reuters) - President Donal...</td>\n",
              "      <td>politicsNews</td>\n",
              "      <td>December 29, 2017</td>\n",
              "      <td>0</td>\n",
              "    </tr>\n",
              "  </tbody>\n",
              "</table>\n",
              "</div>"
            ],
            "text/plain": [
              "                                               title  \\\n",
              "0  As U.S. budget fight looms, Republicans flip t...   \n",
              "1  U.S. military to accept transgender recruits o...   \n",
              "2  Senior U.S. Republican senator: 'Let Mr. Muell...   \n",
              "3  FBI Russia probe helped by Australian diplomat...   \n",
              "4  Trump wants Postal Service to charge 'much mor...   \n",
              "\n",
              "                                                text       subject  \\\n",
              "0  WASHINGTON (Reuters) - The head of a conservat...  politicsNews   \n",
              "1  WASHINGTON (Reuters) - Transgender people will...  politicsNews   \n",
              "2  WASHINGTON (Reuters) - The special counsel inv...  politicsNews   \n",
              "3  WASHINGTON (Reuters) - Trump campaign adviser ...  politicsNews   \n",
              "4  SEATTLE/WASHINGTON (Reuters) - President Donal...  politicsNews   \n",
              "\n",
              "                 date  category  \n",
              "0  December 31, 2017          0  \n",
              "1  December 29, 2017          0  \n",
              "2  December 31, 2017          0  \n",
              "3  December 30, 2017          0  \n",
              "4  December 29, 2017          0  "
            ]
          },
          "execution_count": 142,
          "metadata": {},
          "output_type": "execute_result"
        }
      ],
      "source": [
        "true.head(5)"
      ]
    },
    {
      "cell_type": "code",
      "execution_count": 143,
      "id": "64d6ecc0",
      "metadata": {
        "colab": {
          "base_uri": "https://localhost:8080/",
          "height": 206
        },
        "id": "64d6ecc0",
        "outputId": "794b0b39-e0de-4ccb-f02f-c11fe9cd8710"
      },
      "outputs": [
        {
          "data": {
            "text/html": [
              "<div>\n",
              "<style scoped>\n",
              "    .dataframe tbody tr th:only-of-type {\n",
              "        vertical-align: middle;\n",
              "    }\n",
              "\n",
              "    .dataframe tbody tr th {\n",
              "        vertical-align: top;\n",
              "    }\n",
              "\n",
              "    .dataframe thead th {\n",
              "        text-align: right;\n",
              "    }\n",
              "</style>\n",
              "<table border=\"1\" class=\"dataframe\">\n",
              "  <thead>\n",
              "    <tr style=\"text-align: right;\">\n",
              "      <th></th>\n",
              "      <th>title</th>\n",
              "      <th>text</th>\n",
              "      <th>subject</th>\n",
              "      <th>date</th>\n",
              "      <th>category</th>\n",
              "    </tr>\n",
              "  </thead>\n",
              "  <tbody>\n",
              "    <tr>\n",
              "      <th>0</th>\n",
              "      <td>Donald Trump Sends Out Embarrassing New Year’...</td>\n",
              "      <td>Donald Trump just couldn t wish all Americans ...</td>\n",
              "      <td>News</td>\n",
              "      <td>December 31, 2017</td>\n",
              "      <td>1</td>\n",
              "    </tr>\n",
              "    <tr>\n",
              "      <th>1</th>\n",
              "      <td>Drunk Bragging Trump Staffer Started Russian ...</td>\n",
              "      <td>House Intelligence Committee Chairman Devin Nu...</td>\n",
              "      <td>News</td>\n",
              "      <td>December 31, 2017</td>\n",
              "      <td>1</td>\n",
              "    </tr>\n",
              "    <tr>\n",
              "      <th>2</th>\n",
              "      <td>Sheriff David Clarke Becomes An Internet Joke...</td>\n",
              "      <td>On Friday, it was revealed that former Milwauk...</td>\n",
              "      <td>News</td>\n",
              "      <td>December 30, 2017</td>\n",
              "      <td>1</td>\n",
              "    </tr>\n",
              "    <tr>\n",
              "      <th>3</th>\n",
              "      <td>Trump Is So Obsessed He Even Has Obama’s Name...</td>\n",
              "      <td>On Christmas day, Donald Trump announced that ...</td>\n",
              "      <td>News</td>\n",
              "      <td>December 29, 2017</td>\n",
              "      <td>1</td>\n",
              "    </tr>\n",
              "    <tr>\n",
              "      <th>4</th>\n",
              "      <td>Pope Francis Just Called Out Donald Trump Dur...</td>\n",
              "      <td>Pope Francis used his annual Christmas Day mes...</td>\n",
              "      <td>News</td>\n",
              "      <td>December 25, 2017</td>\n",
              "      <td>1</td>\n",
              "    </tr>\n",
              "  </tbody>\n",
              "</table>\n",
              "</div>"
            ],
            "text/plain": [
              "                                               title  \\\n",
              "0   Donald Trump Sends Out Embarrassing New Year’...   \n",
              "1   Drunk Bragging Trump Staffer Started Russian ...   \n",
              "2   Sheriff David Clarke Becomes An Internet Joke...   \n",
              "3   Trump Is So Obsessed He Even Has Obama’s Name...   \n",
              "4   Pope Francis Just Called Out Donald Trump Dur...   \n",
              "\n",
              "                                                text subject  \\\n",
              "0  Donald Trump just couldn t wish all Americans ...    News   \n",
              "1  House Intelligence Committee Chairman Devin Nu...    News   \n",
              "2  On Friday, it was revealed that former Milwauk...    News   \n",
              "3  On Christmas day, Donald Trump announced that ...    News   \n",
              "4  Pope Francis used his annual Christmas Day mes...    News   \n",
              "\n",
              "                date  category  \n",
              "0  December 31, 2017         1  \n",
              "1  December 31, 2017         1  \n",
              "2  December 30, 2017         1  \n",
              "3  December 29, 2017         1  \n",
              "4  December 25, 2017         1  "
            ]
          },
          "execution_count": 143,
          "metadata": {},
          "output_type": "execute_result"
        }
      ],
      "source": [
        "fake.head(5)"
      ]
    },
    {
      "cell_type": "code",
      "execution_count": 144,
      "id": "87bad830",
      "metadata": {
        "id": "87bad830"
      },
      "outputs": [],
      "source": [
        "df = pd.concat([fake, true]).reset_index(drop=True)\n",
        "# reset index, or else some row would have the same index when join two dataset"
      ]
    },
    {
      "cell_type": "code",
      "execution_count": 145,
      "id": "1c412778",
      "metadata": {
        "colab": {
          "base_uri": "https://localhost:8080/",
          "height": 424
        },
        "id": "1c412778",
        "outputId": "0f6ff200-64dd-40a6-cfc4-f14836ee9251"
      },
      "outputs": [
        {
          "data": {
            "text/html": [
              "<div>\n",
              "<style scoped>\n",
              "    .dataframe tbody tr th:only-of-type {\n",
              "        vertical-align: middle;\n",
              "    }\n",
              "\n",
              "    .dataframe tbody tr th {\n",
              "        vertical-align: top;\n",
              "    }\n",
              "\n",
              "    .dataframe thead th {\n",
              "        text-align: right;\n",
              "    }\n",
              "</style>\n",
              "<table border=\"1\" class=\"dataframe\">\n",
              "  <thead>\n",
              "    <tr style=\"text-align: right;\">\n",
              "      <th></th>\n",
              "      <th>title</th>\n",
              "      <th>text</th>\n",
              "      <th>subject</th>\n",
              "      <th>date</th>\n",
              "      <th>category</th>\n",
              "    </tr>\n",
              "  </thead>\n",
              "  <tbody>\n",
              "    <tr>\n",
              "      <th>0</th>\n",
              "      <td>Donald Trump Sends Out Embarrassing New Year’...</td>\n",
              "      <td>Donald Trump just couldn t wish all Americans ...</td>\n",
              "      <td>News</td>\n",
              "      <td>December 31, 2017</td>\n",
              "      <td>1</td>\n",
              "    </tr>\n",
              "    <tr>\n",
              "      <th>1</th>\n",
              "      <td>Drunk Bragging Trump Staffer Started Russian ...</td>\n",
              "      <td>House Intelligence Committee Chairman Devin Nu...</td>\n",
              "      <td>News</td>\n",
              "      <td>December 31, 2017</td>\n",
              "      <td>1</td>\n",
              "    </tr>\n",
              "    <tr>\n",
              "      <th>2</th>\n",
              "      <td>Sheriff David Clarke Becomes An Internet Joke...</td>\n",
              "      <td>On Friday, it was revealed that former Milwauk...</td>\n",
              "      <td>News</td>\n",
              "      <td>December 30, 2017</td>\n",
              "      <td>1</td>\n",
              "    </tr>\n",
              "    <tr>\n",
              "      <th>3</th>\n",
              "      <td>Trump Is So Obsessed He Even Has Obama’s Name...</td>\n",
              "      <td>On Christmas day, Donald Trump announced that ...</td>\n",
              "      <td>News</td>\n",
              "      <td>December 29, 2017</td>\n",
              "      <td>1</td>\n",
              "    </tr>\n",
              "    <tr>\n",
              "      <th>4</th>\n",
              "      <td>Pope Francis Just Called Out Donald Trump Dur...</td>\n",
              "      <td>Pope Francis used his annual Christmas Day mes...</td>\n",
              "      <td>News</td>\n",
              "      <td>December 25, 2017</td>\n",
              "      <td>1</td>\n",
              "    </tr>\n",
              "    <tr>\n",
              "      <th>...</th>\n",
              "      <td>...</td>\n",
              "      <td>...</td>\n",
              "      <td>...</td>\n",
              "      <td>...</td>\n",
              "      <td>...</td>\n",
              "    </tr>\n",
              "    <tr>\n",
              "      <th>44893</th>\n",
              "      <td>'Fully committed' NATO backs new U.S. approach...</td>\n",
              "      <td>BRUSSELS (Reuters) - NATO allies on Tuesday we...</td>\n",
              "      <td>worldnews</td>\n",
              "      <td>August 22, 2017</td>\n",
              "      <td>0</td>\n",
              "    </tr>\n",
              "    <tr>\n",
              "      <th>44894</th>\n",
              "      <td>LexisNexis withdrew two products from Chinese ...</td>\n",
              "      <td>LONDON (Reuters) - LexisNexis, a provider of l...</td>\n",
              "      <td>worldnews</td>\n",
              "      <td>August 22, 2017</td>\n",
              "      <td>0</td>\n",
              "    </tr>\n",
              "    <tr>\n",
              "      <th>44895</th>\n",
              "      <td>Minsk cultural hub becomes haven from authorities</td>\n",
              "      <td>MINSK (Reuters) - In the shadow of disused Sov...</td>\n",
              "      <td>worldnews</td>\n",
              "      <td>August 22, 2017</td>\n",
              "      <td>0</td>\n",
              "    </tr>\n",
              "    <tr>\n",
              "      <th>44896</th>\n",
              "      <td>Vatican upbeat on possibility of Pope Francis ...</td>\n",
              "      <td>MOSCOW (Reuters) - Vatican Secretary of State ...</td>\n",
              "      <td>worldnews</td>\n",
              "      <td>August 22, 2017</td>\n",
              "      <td>0</td>\n",
              "    </tr>\n",
              "    <tr>\n",
              "      <th>44897</th>\n",
              "      <td>Indonesia to buy $1.14 billion worth of Russia...</td>\n",
              "      <td>JAKARTA (Reuters) - Indonesia will buy 11 Sukh...</td>\n",
              "      <td>worldnews</td>\n",
              "      <td>August 22, 2017</td>\n",
              "      <td>0</td>\n",
              "    </tr>\n",
              "  </tbody>\n",
              "</table>\n",
              "<p>44898 rows × 5 columns</p>\n",
              "</div>"
            ],
            "text/plain": [
              "                                                   title  \\\n",
              "0       Donald Trump Sends Out Embarrassing New Year’...   \n",
              "1       Drunk Bragging Trump Staffer Started Russian ...   \n",
              "2       Sheriff David Clarke Becomes An Internet Joke...   \n",
              "3       Trump Is So Obsessed He Even Has Obama’s Name...   \n",
              "4       Pope Francis Just Called Out Donald Trump Dur...   \n",
              "...                                                  ...   \n",
              "44893  'Fully committed' NATO backs new U.S. approach...   \n",
              "44894  LexisNexis withdrew two products from Chinese ...   \n",
              "44895  Minsk cultural hub becomes haven from authorities   \n",
              "44896  Vatican upbeat on possibility of Pope Francis ...   \n",
              "44897  Indonesia to buy $1.14 billion worth of Russia...   \n",
              "\n",
              "                                                    text    subject  \\\n",
              "0      Donald Trump just couldn t wish all Americans ...       News   \n",
              "1      House Intelligence Committee Chairman Devin Nu...       News   \n",
              "2      On Friday, it was revealed that former Milwauk...       News   \n",
              "3      On Christmas day, Donald Trump announced that ...       News   \n",
              "4      Pope Francis used his annual Christmas Day mes...       News   \n",
              "...                                                  ...        ...   \n",
              "44893  BRUSSELS (Reuters) - NATO allies on Tuesday we...  worldnews   \n",
              "44894  LONDON (Reuters) - LexisNexis, a provider of l...  worldnews   \n",
              "44895  MINSK (Reuters) - In the shadow of disused Sov...  worldnews   \n",
              "44896  MOSCOW (Reuters) - Vatican Secretary of State ...  worldnews   \n",
              "44897  JAKARTA (Reuters) - Indonesia will buy 11 Sukh...  worldnews   \n",
              "\n",
              "                    date  category  \n",
              "0      December 31, 2017         1  \n",
              "1      December 31, 2017         1  \n",
              "2      December 30, 2017         1  \n",
              "3      December 29, 2017         1  \n",
              "4      December 25, 2017         1  \n",
              "...                  ...       ...  \n",
              "44893   August 22, 2017          0  \n",
              "44894   August 22, 2017          0  \n",
              "44895   August 22, 2017          0  \n",
              "44896   August 22, 2017          0  \n",
              "44897   August 22, 2017          0  \n",
              "\n",
              "[44898 rows x 5 columns]"
            ]
          },
          "execution_count": 145,
          "metadata": {},
          "output_type": "execute_result"
        }
      ],
      "source": [
        "# check the new dataframe\n",
        "df"
      ]
    },
    {
      "cell_type": "code",
      "execution_count": 146,
      "id": "903299b8",
      "metadata": {
        "colab": {
          "base_uri": "https://localhost:8080/",
          "height": 641
        },
        "id": "903299b8",
        "outputId": "17281c42-f973-4add-8255-e710fa65112d"
      },
      "outputs": [
        {
          "data": {
            "image/png": "[encoded data removed]",
            "text/plain": [
              "<Figure size 600x700 with 1 Axes>"
            ]
          },
          "metadata": {},
          "output_type": "display_data"
        }
      ],
      "source": [
        "import seaborn as sns\n",
        "import matplotlib.pyplot as plt\n",
        "\n",
        "plt.figure(figsize=(6, 7))\n",
        "sns.countplot(x='category', data=df)\n",
        "plt.title(\"Distribution of News Articles\")\n",
        "plt.xlabel(\"Category\")\n",
        "plt.ylabel(\"Count\")\n",
        "plt.show()"
      ]
    },
    {
      "cell_type": "code",
      "execution_count": 147,
      "id": "ad80a625",
      "metadata": {
        "colab": {
          "base_uri": "https://localhost:8080/",
          "height": 728
        },
        "id": "ad80a625",
        "outputId": "61fbb50f-17a7-4215-a56d-bff9d11bbf52"
      },
      "outputs": [
        {
          "name": "stderr",
          "output_type": "stream",
          "text": [
            "C:\\Users\\harry\\AppData\\Local\\Temp\\ipykernel_22976\\551376621.py:3: FutureWarning: \n",
            "\n",
            "Passing `palette` without assigning `hue` is deprecated and will be removed in v0.14.0. Assign the `x` variable to `hue` and set `legend=False` for the same effect.\n",
            "\n",
            "  sns.countplot(x=\"subject\", data=df, palette='Set1')\n"
          ]
        },
        {
          "data": {
            "image/png": "[encoded data removed]",
            "text/plain": [
              "<Figure size 1000x700 with 1 Axes>"
            ]
          },
          "metadata": {},
          "output_type": "display_data"
        }
      ],
      "source": [
        "plt.figure(figsize=(10,7))\n",
        "\n",
        "sns.countplot(x=\"subject\", data=df, palette='Set1')\n",
        "\n",
        "plt.title(\"Distribution of News Articles\")\n",
        "plt.xlabel(\"Category\")\n",
        "plt.ylabel(\"Count\")\n",
        "plt.show()\n"
      ]
    },
    {
      "cell_type": "markdown",
      "id": "7c7b3a74",
      "metadata": {
        "id": "7c7b3a74"
      },
      "source": [
        "Since we only extract 3 feature in the dataset: Title, text and category, we will drop 'subject' and 'date' column as these can ultimately affect the accuracy"
      ]
    },
    {
      "cell_type": "code",
      "execution_count": 148,
      "id": "f1576ac5",
      "metadata": {
        "id": "f1576ac5"
      },
      "outputs": [],
      "source": [
        "df = df[['title', 'text', 'category']]"
      ]
    },
    {
      "cell_type": "code",
      "execution_count": 149,
      "id": "2464db53",
      "metadata": {
        "colab": {
          "base_uri": "https://localhost:8080/",
          "height": 424
        },
        "id": "2464db53",
        "outputId": "d14f9a1e-2706-49db-9da8-9dc642dcda13"
      },
      "outputs": [
        {
          "data": {
            "text/html": [
              "<div>\n",
              "<style scoped>\n",
              "    .dataframe tbody tr th:only-of-type {\n",
              "        vertical-align: middle;\n",
              "    }\n",
              "\n",
              "    .dataframe tbody tr th {\n",
              "        vertical-align: top;\n",
              "    }\n",
              "\n",
              "    .dataframe thead th {\n",
              "        text-align: right;\n",
              "    }\n",
              "</style>\n",
              "<table border=\"1\" class=\"dataframe\">\n",
              "  <thead>\n",
              "    <tr style=\"text-align: right;\">\n",
              "      <th></th>\n",
              "      <th>title</th>\n",
              "      <th>text</th>\n",
              "      <th>category</th>\n",
              "    </tr>\n",
              "  </thead>\n",
              "  <tbody>\n",
              "    <tr>\n",
              "      <th>0</th>\n",
              "      <td>Donald Trump Sends Out Embarrassing New Year’...</td>\n",
              "      <td>Donald Trump just couldn t wish all Americans ...</td>\n",
              "      <td>1</td>\n",
              "    </tr>\n",
              "    <tr>\n",
              "      <th>1</th>\n",
              "      <td>Drunk Bragging Trump Staffer Started Russian ...</td>\n",
              "      <td>House Intelligence Committee Chairman Devin Nu...</td>\n",
              "      <td>1</td>\n",
              "    </tr>\n",
              "    <tr>\n",
              "      <th>2</th>\n",
              "      <td>Sheriff David Clarke Becomes An Internet Joke...</td>\n",
              "      <td>On Friday, it was revealed that former Milwauk...</td>\n",
              "      <td>1</td>\n",
              "    </tr>\n",
              "    <tr>\n",
              "      <th>3</th>\n",
              "      <td>Trump Is So Obsessed He Even Has Obama’s Name...</td>\n",
              "      <td>On Christmas day, Donald Trump announced that ...</td>\n",
              "      <td>1</td>\n",
              "    </tr>\n",
              "    <tr>\n",
              "      <th>4</th>\n",
              "      <td>Pope Francis Just Called Out Donald Trump Dur...</td>\n",
              "      <td>Pope Francis used his annual Christmas Day mes...</td>\n",
              "      <td>1</td>\n",
              "    </tr>\n",
              "    <tr>\n",
              "      <th>...</th>\n",
              "      <td>...</td>\n",
              "      <td>...</td>\n",
              "      <td>...</td>\n",
              "    </tr>\n",
              "    <tr>\n",
              "      <th>44893</th>\n",
              "      <td>'Fully committed' NATO backs new U.S. approach...</td>\n",
              "      <td>BRUSSELS (Reuters) - NATO allies on Tuesday we...</td>\n",
              "      <td>0</td>\n",
              "    </tr>\n",
              "    <tr>\n",
              "      <th>44894</th>\n",
              "      <td>LexisNexis withdrew two products from Chinese ...</td>\n",
              "      <td>LONDON (Reuters) - LexisNexis, a provider of l...</td>\n",
              "      <td>0</td>\n",
              "    </tr>\n",
              "    <tr>\n",
              "      <th>44895</th>\n",
              "      <td>Minsk cultural hub becomes haven from authorities</td>\n",
              "      <td>MINSK (Reuters) - In the shadow of disused Sov...</td>\n",
              "      <td>0</td>\n",
              "    </tr>\n",
              "    <tr>\n",
              "      <th>44896</th>\n",
              "      <td>Vatican upbeat on possibility of Pope Francis ...</td>\n",
              "      <td>MOSCOW (Reuters) - Vatican Secretary of State ...</td>\n",
              "      <td>0</td>\n",
              "    </tr>\n",
              "    <tr>\n",
              "      <th>44897</th>\n",
              "      <td>Indonesia to buy $1.14 billion worth of Russia...</td>\n",
              "      <td>JAKARTA (Reuters) - Indonesia will buy 11 Sukh...</td>\n",
              "      <td>0</td>\n",
              "    </tr>\n",
              "  </tbody>\n",
              "</table>\n",
              "<p>44898 rows × 3 columns</p>\n",
              "</div>"
            ],
            "text/plain": [
              "                                                   title  \\\n",
              "0       Donald Trump Sends Out Embarrassing New Year’...   \n",
              "1       Drunk Bragging Trump Staffer Started Russian ...   \n",
              "2       Sheriff David Clarke Becomes An Internet Joke...   \n",
              "3       Trump Is So Obsessed He Even Has Obama’s Name...   \n",
              "4       Pope Francis Just Called Out Donald Trump Dur...   \n",
              "...                                                  ...   \n",
              "44893  'Fully committed' NATO backs new U.S. approach...   \n",
              "44894  LexisNexis withdrew two products from Chinese ...   \n",
              "44895  Minsk cultural hub becomes haven from authorities   \n",
              "44896  Vatican upbeat on possibility of Pope Francis ...   \n",
              "44897  Indonesia to buy $1.14 billion worth of Russia...   \n",
              "\n",
              "                                                    text  category  \n",
              "0      Donald Trump just couldn t wish all Americans ...         1  \n",
              "1      House Intelligence Committee Chairman Devin Nu...         1  \n",
              "2      On Friday, it was revealed that former Milwauk...         1  \n",
              "3      On Christmas day, Donald Trump announced that ...         1  \n",
              "4      Pope Francis used his annual Christmas Day mes...         1  \n",
              "...                                                  ...       ...  \n",
              "44893  BRUSSELS (Reuters) - NATO allies on Tuesday we...         0  \n",
              "44894  LONDON (Reuters) - LexisNexis, a provider of l...         0  \n",
              "44895  MINSK (Reuters) - In the shadow of disused Sov...         0  \n",
              "44896  MOSCOW (Reuters) - Vatican Secretary of State ...         0  \n",
              "44897  JAKARTA (Reuters) - Indonesia will buy 11 Sukh...         0  \n",
              "\n",
              "[44898 rows x 3 columns]"
            ]
          },
          "execution_count": 149,
          "metadata": {},
          "output_type": "execute_result"
        }
      ],
      "source": [
        "df"
      ]
    },
    {
      "cell_type": "markdown",
      "id": "16611b31",
      "metadata": {
        "id": "16611b31"
      },
      "source": [
        "# Data Cleaning"
      ]
    },
    {
      "cell_type": "markdown",
      "id": "f53475b2",
      "metadata": {
        "id": "f53475b2"
      },
      "source": [
        "First step of cleaning our dataset is to check if there is any missing value in our dataset"
      ]
    },
    {
      "cell_type": "code",
      "execution_count": 150,
      "id": "59f37b59",
      "metadata": {
        "colab": {
          "base_uri": "https://localhost:8080/",
          "height": 178
        },
        "id": "59f37b59",
        "outputId": "69064bc9-2332-4203-cffa-31c7587be0eb"
      },
      "outputs": [
        {
          "data": {
            "text/plain": [
              "title       0.0\n",
              "text        0.0\n",
              "category    0.0\n",
              "dtype: float64"
            ]
          },
          "execution_count": 150,
          "metadata": {},
          "output_type": "execute_result"
        }
      ],
      "source": [
        "df.isna().sum()*100/len(df)"
      ]
    },
    {
      "cell_type": "markdown",
      "id": "89b414d4",
      "metadata": {
        "id": "89b414d4"
      },
      "source": [
        "We can see there is no missing value. However, we not sure if there is any anomolies in each row, e.g a space \" \", can be count as String\n",
        "\n",
        "Therefore, we will then explore if there is any empty string in 'Title' and 'Text' column."
      ]
    },
    {
      "cell_type": "code",
      "execution_count": 151,
      "id": "ee58dfa6",
      "metadata": {
        "colab": {
          "base_uri": "https://localhost:8080/"
        },
        "id": "ee58dfa6",
        "outputId": "32aed266-abac-4138-80e9-a3383a79f06e"
      },
      "outputs": [
        {
          "name": "stdout",
          "output_type": "stream",
          "text": [
            "Empty text rows: 631\n",
            "Empty title rows: 0\n"
          ]
        }
      ],
      "source": [
        "# Blank indices for 'text'\n",
        "text_blanks = []\n",
        "for index, text in df['text'].items():\n",
        "    if isinstance(text, str):          # make sure it's a string\n",
        "        if text.strip() == \"\":         # catches \"\" and \"   \"\n",
        "            text_blanks.append(index)\n",
        "\n",
        "# Blank indices for 'title'\n",
        "title_blanks = []\n",
        "for index, title in df['title'].items():\n",
        "    if isinstance(title, str):\n",
        "        if title.strip() == \"\":\n",
        "            title_blanks.append(index)\n",
        "\n",
        "print(\"Empty text rows:\", len(text_blanks))\n",
        "print(\"Empty title rows:\", len(title_blanks))"
      ]
    },
    {
      "cell_type": "markdown",
      "id": "bdedc148",
      "metadata": {
        "id": "bdedc148"
      },
      "source": [
        "So we appear to have missing value in 'text' column only."
      ]
    },
    {
      "cell_type": "code",
      "execution_count": 152,
      "id": "ef70040d",
      "metadata": {
        "colab": {
          "base_uri": "https://localhost:8080/"
        },
        "id": "ef70040d",
        "outputId": "02bac347-54cf-4a4c-a784-065a4ba862eb"
      },
      "outputs": [
        {
          "data": {
            "text/plain": [
              "[10923,\n",
              " 11041,\n",
              " 11190,\n",
              " 11225,\n",
              " 11236,\n",
              " 11241,\n",
              " 11247,\n",
              " 11249,\n",
              " 11267,\n",
              " 11268,\n",
              " 11283,\n",
              " 11284,\n",
              " 11285,\n",
              " 11289,\n",
              " 11290,\n",
              " 11292,\n",
              " 11295,\n",
              " 11296,\n",
              " 11301,\n",
              " 11303,\n",
              " 11304,\n",
              " 11305,\n",
              " 11309,\n",
              " 11314,\n",
              " 11317,\n",
              " 11319,\n",
              " 11322,\n",
              " 11330,\n",
              " 11334,\n",
              " 11335,\n",
              " 11340,\n",
              " 11343,\n",
              " 11348,\n",
              " 11351,\n",
              " 11352,\n",
              " 11357,\n",
              " 11371,\n",
              " 11373,\n",
              " 11374,\n",
              " 11382,\n",
              " 11397,\n",
              " 11402,\n",
              " 11403,\n",
              " 11409,\n",
              " 11410,\n",
              " 11412,\n",
              " 11415,\n",
              " 11419,\n",
              " 11421,\n",
              " 11427,\n",
              " 11431,\n",
              " 11432,\n",
              " 11440,\n",
              " 11448,\n",
              " 11450,\n",
              " 11453,\n",
              " 11462,\n",
              " 11464,\n",
              " 11465,\n",
              " 11472,\n",
              " 11473,\n",
              " 11475,\n",
              " 11478,\n",
              " 11489,\n",
              " 11491,\n",
              " 11493,\n",
              " 11494,\n",
              " 11501,\n",
              " 11505,\n",
              " 11507,\n",
              " 11520,\n",
              " 11531,\n",
              " 11532,\n",
              " 11533,\n",
              " 11538,\n",
              " 11542,\n",
              " 11547,\n",
              " 11549,\n",
              " 11551,\n",
              " 11559,\n",
              " 11563,\n",
              " 11581,\n",
              " 11585,\n",
              " 11589,\n",
              " 11590,\n",
              " 11614,\n",
              " 11624,\n",
              " 11625,\n",
              " 11627,\n",
              " 11631,\n",
              " 11636,\n",
              " 11637,\n",
              " 11643,\n",
              " 11650,\n",
              " 11658,\n",
              " 11661,\n",
              " 11672,\n",
              " 11679,\n",
              " 11681,\n",
              " 11684,\n",
              " 11686,\n",
              " 11688,\n",
              " 11692,\n",
              " 11708,\n",
              " 11718,\n",
              " 11729,\n",
              " 11739,\n",
              " 11753,\n",
              " 11765,\n",
              " 11768,\n",
              " 11777,\n",
              " 11782,\n",
              " 11786,\n",
              " 11788,\n",
              " 11792,\n",
              " 11793,\n",
              " 11803,\n",
              " 11806,\n",
              " 11813,\n",
              " 11821,\n",
              " 11831,\n",
              " 11832,\n",
              " 11841,\n",
              " 11844,\n",
              " 11848,\n",
              " 11854,\n",
              " 11858,\n",
              " 11860,\n",
              " 11863,\n",
              " 11866,\n",
              " 11872,\n",
              " 11874,\n",
              " 11875,\n",
              " 11879,\n",
              " 11881,\n",
              " 11884,\n",
              " 11889,\n",
              " 11893,\n",
              " 11900,\n",
              " 11904,\n",
              " 11906,\n",
              " 11913,\n",
              " 11914,\n",
              " 11915,\n",
              " 11922,\n",
              " 11923,\n",
              " 11929,\n",
              " 11930,\n",
              " 11934,\n",
              " 11936,\n",
              " 11943,\n",
              " 11957,\n",
              " 11960,\n",
              " 11971,\n",
              " 11981,\n",
              " 11988,\n",
              " 11989,\n",
              " 11990,\n",
              " 11996,\n",
              " 11998,\n",
              " 12007,\n",
              " 12011,\n",
              " 12025,\n",
              " 12026,\n",
              " 12028,\n",
              " 12038,\n",
              " 12039,\n",
              " 12055,\n",
              " 12067,\n",
              " 12072,\n",
              " 12074,\n",
              " 12076,\n",
              " 12088,\n",
              " 12097,\n",
              " 12100,\n",
              " 12108,\n",
              " 12109,\n",
              " 12111,\n",
              " 12114,\n",
              " 12116,\n",
              " 12117,\n",
              " 12118,\n",
              " 12120,\n",
              " 12122,\n",
              " 12133,\n",
              " 12136,\n",
              " 12137,\n",
              " 12138,\n",
              " 12141,\n",
              " 12144,\n",
              " 12148,\n",
              " 12150,\n",
              " 12156,\n",
              " 12161,\n",
              " 12163,\n",
              " 12192,\n",
              " 12197,\n",
              " 12203,\n",
              " 12208,\n",
              " 12217,\n",
              " 12218,\n",
              " 12224,\n",
              " 12225,\n",
              " 12229,\n",
              " 12233,\n",
              " 12237,\n",
              " 12241,\n",
              " 12244,\n",
              " 12247,\n",
              " 12249,\n",
              " 12257,\n",
              " 12261,\n",
              " 12268,\n",
              " 12270,\n",
              " 12271,\n",
              " 12276,\n",
              " 12283,\n",
              " 12284,\n",
              " 12286,\n",
              " 12294,\n",
              " 12296,\n",
              " 12297,\n",
              " 12304,\n",
              " 12305,\n",
              " 12308,\n",
              " 12309,\n",
              " 12312,\n",
              " 12313,\n",
              " 12314,\n",
              " 12319,\n",
              " 12324,\n",
              " 12330,\n",
              " 12336,\n",
              " 12339,\n",
              " 12341,\n",
              " 12344,\n",
              " 12350,\n",
              " 12352,\n",
              " 12353,\n",
              " 12360,\n",
              " 12369,\n",
              " 12370,\n",
              " 12371,\n",
              " 12376,\n",
              " 12379,\n",
              " 12381,\n",
              " 12385,\n",
              " 12386,\n",
              " 12387,\n",
              " 12392,\n",
              " 12404,\n",
              " 12409,\n",
              " 12410,\n",
              " 12413,\n",
              " 12419,\n",
              " 12422,\n",
              " 12424,\n",
              " 12430,\n",
              " 12431,\n",
              " 12432,\n",
              " 12437,\n",
              " 12441,\n",
              " 12442,\n",
              " 12445,\n",
              " 12446,\n",
              " 12458,\n",
              " 12465,\n",
              " 12467,\n",
              " 12469,\n",
              " 12473,\n",
              " 12474,\n",
              " 12486,\n",
              " 12493,\n",
              " 12494,\n",
              " 12495,\n",
              " 12502,\n",
              " 12505,\n",
              " 12508,\n",
              " 12511,\n",
              " 12512,\n",
              " 12520,\n",
              " 12532,\n",
              " 12546,\n",
              " 12554,\n",
              " 12558,\n",
              " 12560,\n",
              " 12566,\n",
              " 12572,\n",
              " 12580,\n",
              " 12584,\n",
              " 12585,\n",
              " 12587,\n",
              " 12603,\n",
              " 12605,\n",
              " 12615,\n",
              " 12631,\n",
              " 12643,\n",
              " 12647,\n",
              " 12654,\n",
              " 12655,\n",
              " 12659,\n",
              " 12661,\n",
              " 12662,\n",
              " 12671,\n",
              " 12675,\n",
              " 12679,\n",
              " 12681,\n",
              " 12685,\n",
              " 12697,\n",
              " 12698,\n",
              " 12708,\n",
              " 12715,\n",
              " 12716,\n",
              " 12733,\n",
              " 12739,\n",
              " 12740,\n",
              " 12750,\n",
              " 12757,\n",
              " 12779,\n",
              " 12783,\n",
              " 12785,\n",
              " 12787,\n",
              " 12792,\n",
              " 12798,\n",
              " 12799,\n",
              " 12800,\n",
              " 12802,\n",
              " 12825,\n",
              " 12831,\n",
              " 12838,\n",
              " 12839,\n",
              " 12844,\n",
              " 12862,\n",
              " 12871,\n",
              " 12882,\n",
              " 12899,\n",
              " 12901,\n",
              " 12909,\n",
              " 12914,\n",
              " 12918,\n",
              " 12921,\n",
              " 12939,\n",
              " 12940,\n",
              " 12941,\n",
              " 12982,\n",
              " 12985,\n",
              " 12992,\n",
              " 13005,\n",
              " 13008,\n",
              " 13014,\n",
              " 13017,\n",
              " 13030,\n",
              " 13037,\n",
              " 13044,\n",
              " 13045,\n",
              " 13049,\n",
              " 13050,\n",
              " 13060,\n",
              " 13069,\n",
              " 13073,\n",
              " 13080,\n",
              " 13086,\n",
              " 13088,\n",
              " 13093,\n",
              " 13098,\n",
              " 13108,\n",
              " 13118,\n",
              " 13122,\n",
              " 13474,\n",
              " 13614,\n",
              " 13666,\n",
              " 13963,\n",
              " 14086,\n",
              " 14282,\n",
              " 14289,\n",
              " 14320,\n",
              " 14416,\n",
              " 15363,\n",
              " 15597,\n",
              " 15639,\n",
              " 15641,\n",
              " 15642,\n",
              " 15660,\n",
              " 15661,\n",
              " 15664,\n",
              " 15666,\n",
              " 15673,\n",
              " 15674,\n",
              " 15682,\n",
              " 15693,\n",
              " 15698,\n",
              " 15700,\n",
              " 15705,\n",
              " 15709,\n",
              " 15710,\n",
              " 15718,\n",
              " 15719,\n",
              " 15728,\n",
              " 15747,\n",
              " 15749,\n",
              " 15760,\n",
              " 15771,\n",
              " 15772,\n",
              " 15785,\n",
              " 15786,\n",
              " 15788,\n",
              " 15824,\n",
              " 15842,\n",
              " 16165,\n",
              " 16166,\n",
              " 16173,\n",
              " 16178,\n",
              " 16180,\n",
              " 16182,\n",
              " 16183,\n",
              " 16185,\n",
              " 16189,\n",
              " 16190,\n",
              " 16192,\n",
              " 16193,\n",
              " 16194,\n",
              " 16196,\n",
              " 16199,\n",
              " 16203,\n",
              " 16212,\n",
              " 16214,\n",
              " 16218,\n",
              " 16219,\n",
              " 16220,\n",
              " 16228,\n",
              " 16235,\n",
              " 16245,\n",
              " 16250,\n",
              " 16255,\n",
              " 16258,\n",
              " 16259,\n",
              " 16264,\n",
              " 16267,\n",
              " 16268,\n",
              " 16273,\n",
              " 16287,\n",
              " 16296,\n",
              " 16298,\n",
              " 16301,\n",
              " 16306,\n",
              " 16309,\n",
              " 16313,\n",
              " 16314,\n",
              " 16318,\n",
              " 16327,\n",
              " 16329,\n",
              " 16336,\n",
              " 16343,\n",
              " 16346,\n",
              " 16356,\n",
              " 16358,\n",
              " 16366,\n",
              " 16368,\n",
              " 16377,\n",
              " 16380,\n",
              " 16407,\n",
              " 16408,\n",
              " 16411,\n",
              " 16415,\n",
              " 16418,\n",
              " 16425,\n",
              " 16744,\n",
              " 16987,\n",
              " 17246,\n",
              " 17270,\n",
              " 17290,\n",
              " 17348,\n",
              " 17354,\n",
              " 17355,\n",
              " 17356,\n",
              " 17362,\n",
              " 17373,\n",
              " 17375,\n",
              " 17387,\n",
              " 17418,\n",
              " 18653,\n",
              " 18747,\n",
              " 18856,\n",
              " 18882,\n",
              " 18886,\n",
              " 18897,\n",
              " 18904,\n",
              " 18906,\n",
              " 18914,\n",
              " 18915,\n",
              " 18916,\n",
              " 18922,\n",
              " 18924,\n",
              " 18929,\n",
              " 18935,\n",
              " 18943,\n",
              " 18944,\n",
              " 18957,\n",
              " 18970,\n",
              " 18977,\n",
              " 18978,\n",
              " 18980,\n",
              " 18986,\n",
              " 18994,\n",
              " 19006,\n",
              " 19021,\n",
              " 19023,\n",
              " 19025,\n",
              " 19033,\n",
              " 19035,\n",
              " 19067,\n",
              " 19069,\n",
              " 19077,\n",
              " 19090,\n",
              " 19115,\n",
              " 19118,\n",
              " 19132,\n",
              " 19148,\n",
              " 19151,\n",
              " 19154,\n",
              " 19157,\n",
              " 19161,\n",
              " 19180,\n",
              " 19209,\n",
              " 19215,\n",
              " 19239,\n",
              " 19246,\n",
              " 19251,\n",
              " 19265,\n",
              " 19266,\n",
              " 19268,\n",
              " 19284,\n",
              " 19288,\n",
              " 19291,\n",
              " 19316,\n",
              " 19317,\n",
              " 19322,\n",
              " 19333,\n",
              " 19355,\n",
              " 19362,\n",
              " 19374,\n",
              " 19375,\n",
              " 19393,\n",
              " 19412,\n",
              " 19414,\n",
              " 19416,\n",
              " 19424,\n",
              " 19428,\n",
              " 19446,\n",
              " 19447,\n",
              " 19451,\n",
              " 19459,\n",
              " 19461,\n",
              " 19462,\n",
              " 19493,\n",
              " 19500,\n",
              " 19508,\n",
              " 19511,\n",
              " 19514,\n",
              " 19517,\n",
              " 19520,\n",
              " 19534,\n",
              " 19536,\n",
              " 19558,\n",
              " 19574,\n",
              " 19584,\n",
              " 19585,\n",
              " 19586,\n",
              " 19592,\n",
              " 19598,\n",
              " 19599,\n",
              " 19603,\n",
              " 19606,\n",
              " 19607,\n",
              " 19608,\n",
              " 19612,\n",
              " 19623,\n",
              " 19624,\n",
              " 19634,\n",
              " 19639,\n",
              " 19640,\n",
              " 19641,\n",
              " 19646,\n",
              " 19650,\n",
              " 19656,\n",
              " 19660,\n",
              " 19662,\n",
              " 19673,\n",
              " 19685,\n",
              " 19724,\n",
              " 19747,\n",
              " 19751,\n",
              " 19756,\n",
              " 19765,\n",
              " 19769,\n",
              " 19771,\n",
              " 19782,\n",
              " 19783,\n",
              " 19791,\n",
              " 19805,\n",
              " 19806,\n",
              " 19844,\n",
              " 19845,\n",
              " 19846,\n",
              " 19863,\n",
              " 19867,\n",
              " 19895,\n",
              " 19899,\n",
              " 19935,\n",
              " 19973,\n",
              " 20029,\n",
              " 20394,\n",
              " 20715,\n",
              " 21237,\n",
              " 21584,\n",
              " 21714,\n",
              " 21715,\n",
              " 21751,\n",
              " 21775,\n",
              " 21780,\n",
              " 21785,\n",
              " 21786,\n",
              " 21787,\n",
              " 21813,\n",
              " 21815,\n",
              " 21816,\n",
              " 21826,\n",
              " 21827,\n",
              " 21857,\n",
              " 21873,\n",
              " 32451]"
            ]
          },
          "execution_count": 152,
          "metadata": {},
          "output_type": "execute_result"
        }
      ],
      "source": [
        "text_blanks # see which row has empty string"
      ]
    },
    {
      "cell_type": "code",
      "execution_count": 153,
      "id": "f578e767",
      "metadata": {
        "colab": {
          "base_uri": "https://localhost:8080/",
          "height": 35
        },
        "id": "f578e767",
        "outputId": "2d25abdf-f862-48ea-c382-11f072dca3ad"
      },
      "outputs": [
        {
          "data": {
            "text/plain": [
              "' '"
            ]
          },
          "execution_count": 153,
          "metadata": {},
          "output_type": "execute_result"
        }
      ],
      "source": [
        "#see what it looks like in a row with empty string\n",
        "df['text'][12940]"
      ]
    },
    {
      "cell_type": "code",
      "execution_count": 154,
      "id": "d1476886",
      "metadata": {
        "colab": {
          "base_uri": "https://localhost:8080/"
        },
        "id": "d1476886",
        "outputId": "88c2c52b-f08e-49aa-a230-e5244fbe3018"
      },
      "outputs": [
        {
          "data": {
            "text/plain": [
              "(44898, 3)"
            ]
          },
          "execution_count": 154,
          "metadata": {},
          "output_type": "execute_result"
        }
      ],
      "source": [
        "df.shape"
      ]
    },
    {
      "cell_type": "markdown",
      "id": "06907a77",
      "metadata": {
        "id": "06907a77"
      },
      "source": [
        "Now we begin to remove rows that contain missing value"
      ]
    },
    {
      "cell_type": "code",
      "execution_count": 155,
      "id": "53ea98d9",
      "metadata": {
        "colab": {
          "base_uri": "https://localhost:8080/"
        },
        "id": "53ea98d9",
        "outputId": "697cfdb7-a989-4e1c-9a4d-de189860efbc"
      },
      "outputs": [
        {
          "name": "stderr",
          "output_type": "stream",
          "text": [
            "C:\\Users\\harry\\AppData\\Local\\Temp\\ipykernel_22976\\3951194466.py:1: SettingWithCopyWarning: \n",
            "A value is trying to be set on a copy of a slice from a DataFrame\n",
            "\n",
            "See the caveats in the documentation: https://pandas.pydata.org/pandas-docs/stable/user_guide/indexing.html#returning-a-view-versus-a-copy\n",
            "  df.drop(text_blanks, inplace=True)\n"
          ]
        }
      ],
      "source": [
        "df.drop(text_blanks, inplace=True)"
      ]
    },
    {
      "cell_type": "code",
      "execution_count": 156,
      "id": "9ca5093e",
      "metadata": {
        "colab": {
          "base_uri": "https://localhost:8080/"
        },
        "id": "9ca5093e",
        "outputId": "15f33a28-2525-45ec-d604-b8c45922447a"
      },
      "outputs": [
        {
          "data": {
            "text/plain": [
              "(44267, 3)"
            ]
          },
          "execution_count": 156,
          "metadata": {},
          "output_type": "execute_result"
        }
      ],
      "source": [
        "df.shape"
      ]
    },
    {
      "cell_type": "markdown",
      "id": "49a1c083",
      "metadata": {
        "id": "49a1c083"
      },
      "source": [
        "As you can see, the size of the dataset is degraded from (44898, 3) to (44267, 3)"
      ]
    },
    {
      "cell_type": "markdown",
      "id": "d7cf16d5",
      "metadata": {
        "id": "d7cf16d5"
      },
      "source": [
        "Next step is to clean our text data, in this case it would be **stop word**"
      ]
    },
    {
      "cell_type": "markdown",
      "id": "638887fd",
      "metadata": {
        "id": "638887fd"
      },
      "source": [
        "**STOP WORLD**\n",
        "\n",
        "In Natural Language Processing (NLP), stop words are common words that are usually ignored during text processing because they carry little meaningful information.\n",
        "\n",
        "Examples: \"the\", \"is\", \"at\", \"on\", \"and\", \"a\", \"of\", \"in\"\n",
        "\n",
        "They appear very frequently in text but don’t help distinguish meaning in tasks like classification or information retrieval. Therefore, we dont want them too take up space in our database, or taking up valuable processing time. We do this by simply storing a list of words that you consider to stop words."
      ]
    },
    {
      "cell_type": "code",
      "execution_count": 157,
      "id": "aed500ba",
      "metadata": {
        "colab": {
          "base_uri": "https://localhost:8080/"
        },
        "id": "aed500ba",
        "outputId": "4fb1d9b3-e871-40d1-c3f9-146f71826ac2"
      },
      "outputs": [
        {
          "name": "stderr",
          "output_type": "stream",
          "text": [
            "[nltk_data] Downloading package stopwords to\n",
            "[nltk_data]     C:\\Users\\harry\\AppData\\Roaming\\nltk_data...\n",
            "[nltk_data]   Package stopwords is already up-to-date!\n",
            "[nltk_data] Downloading package wordnet to\n",
            "[nltk_data]     C:\\Users\\harry\\AppData\\Roaming\\nltk_data...\n",
            "[nltk_data]   Package wordnet is already up-to-date!\n"
          ]
        }
      ],
      "source": [
        "from nltk.corpus import stopwords\n",
        "from nltk.stem import WordNetLemmatizer # word with similar\n",
        "                                        # context will be only consider as one\n",
        "                                        # e.g: talk and talking\n",
        "import spacy\n",
        "import re\n",
        "import nltk\n",
        "nltk.download('stopwords')\n",
        "nltk.download('wordnet')\n",
        "\n",
        "nlp = spacy.load(\"en_core_web_sm\")"
      ]
    },
    {
      "cell_type": "code",
      "execution_count": 158,
      "id": "68b259db",
      "metadata": {
        "id": "68b259db"
      },
      "outputs": [],
      "source": [
        "lemma = WordNetLemmatizer()"
      ]
    },
    {
      "cell_type": "code",
      "execution_count": 159,
      "id": "d8c316ea",
      "metadata": {
        "colab": {
          "base_uri": "https://localhost:8080/"
        },
        "id": "d8c316ea",
        "outputId": "503285da-1f4f-4eb6-b2e3-c2dd529310bb"
      },
      "outputs": [
        {
          "name": "stdout",
          "output_type": "stream",
          "text": [
            "326\n",
            "198\n",
            "401\n"
          ]
        }
      ],
      "source": [
        "#stop word of spacy\n",
        "list1 = nlp.Defaults.stop_words\n",
        "print(len(list1))\n",
        "\n",
        "#stoopword of NTLK\n",
        "list2 = stopwords.words('english')\n",
        "print(len(list2))\n",
        "\n",
        "#combining the stopword list\n",
        "\n",
        "Stopword = set((set(list1)|set(list2)))\n",
        "print(len(Stopword))"
      ]
    },
    {
      "cell_type": "code",
      "execution_count": 160,
      "id": "93c9fdcf",
      "metadata": {
        "id": "93c9fdcf"
      },
      "outputs": [],
      "source": [
        "def clean_text(text):\n",
        "\n",
        "    \"\"\"\n",
        "    It takes text as an input and clean it by applying several methods\n",
        "\n",
        "    \"\"\"\n",
        "\n",
        "    string = \"\"\n",
        "\n",
        "    #lower casing\n",
        "    text=text.lower()\n",
        "    #simplifying text\n",
        "    text=re.sub(r\"i'm\",\"i am\",text)\n",
        "    text=re.sub(r\"he's\",\"he is\",text)\n",
        "    text=re.sub(r\"she's\",\"she is\",text)\n",
        "    text=re.sub(r\"that's\",\"that is\",text)\n",
        "    text=re.sub(r\"what's\",\"what is\",text)\n",
        "    text=re.sub(r\"where's\",\"where is\",text)\n",
        "    text=re.sub(r\"\\'ll\",\" will\",text)\n",
        "    text=re.sub(r\"\\'ve\",\" have\",text)\n",
        "    text=re.sub(r\"\\'re\",\" are\",text)\n",
        "    text=re.sub(r\"\\'d\",\" would\",text)\n",
        "    text=re.sub(r\"won't\",\"will not\",text)\n",
        "    text=re.sub(r\"can't\",\"cannot\",text)\n",
        "\n",
        "    #removing any special character\n",
        "    text=re.sub(r\"[-()\\\"#!@$%^&*{}?.,:]\",\" \",text)\n",
        "    text=re.sub(r\"\\s+\",\" \",text)\n",
        "    text=re.sub('[^A-Za-z0-9]+',' ', text)\n",
        "\n",
        "    for word in text.split():\n",
        "        if word not in Stopword:\n",
        "            string+=lemma.lemmatize(word)+\" \"\n",
        "\n",
        "    return string"
      ]
    },
    {
      "cell_type": "code",
      "execution_count": 161,
      "id": "577656b3",
      "metadata": {
        "colab": {
          "base_uri": "https://localhost:8080/"
        },
        "id": "577656b3",
        "outputId": "2ab50645-2871-456a-faab-f409e18b2aab"
      },
      "outputs": [
        {
          "name": "stderr",
          "output_type": "stream",
          "text": [
            "C:\\Users\\harry\\AppData\\Local\\Temp\\ipykernel_22976\\3105221372.py:2: SettingWithCopyWarning: \n",
            "A value is trying to be set on a copy of a slice from a DataFrame.\n",
            "Try using .loc[row_indexer,col_indexer] = value instead\n",
            "\n",
            "See the caveats in the documentation: https://pandas.pydata.org/pandas-docs/stable/user_guide/indexing.html#returning-a-view-versus-a-copy\n",
            "  df[\"title\"] = df[\"title\"].apply(clean_text)\n",
            "C:\\Users\\harry\\AppData\\Local\\Temp\\ipykernel_22976\\3105221372.py:3: SettingWithCopyWarning: \n",
            "A value is trying to be set on a copy of a slice from a DataFrame.\n",
            "Try using .loc[row_indexer,col_indexer] = value instead\n",
            "\n",
            "See the caveats in the documentation: https://pandas.pydata.org/pandas-docs/stable/user_guide/indexing.html#returning-a-view-versus-a-copy\n",
            "  df[\"text\"]=df[\"text\"].apply(clean_text)\n"
          ]
        }
      ],
      "source": [
        "#cleaning the whole data\n",
        "df[\"title\"] = df[\"title\"].apply(clean_text)\n",
        "df[\"text\"]=df[\"text\"].apply(clean_text)"
      ]
    },
    {
      "cell_type": "markdown",
      "id": "1a9a658b",
      "metadata": {
        "id": "1a9a658b"
      },
      "source": [
        "# Feature-Extraction & Model building"
      ]
    },
    {
      "cell_type": "code",
      "execution_count": 162,
      "id": "kB5eZ8sQGnuH",
      "metadata": {
        "colab": {
          "base_uri": "https://localhost:8080/",
          "height": 458
        },
        "id": "kB5eZ8sQGnuH",
        "outputId": "804bc6c7-1417-407c-896f-0c75b5c79672"
      },
      "outputs": [
        {
          "data": {
            "text/plain": [
              "0        donald trump sends embarrassing new year eve m...\n",
              "1        drunk bragging trump staffer started russian c...\n",
              "2        sheriff david clarke internet joke threatening...\n",
              "3                trump obsessed obama coded website image \n",
              "4        pope francis called donald trump christmas spe...\n",
              "                               ...                        \n",
              "44893    fully committed nato back new u approach afgha...\n",
              "44894          lexisnexis withdrew product chinese market \n",
              "44895                        minsk cultural hub authority \n",
              "44896    vatican upbeat possibility pope francis visiti...\n",
              "44897        indonesia buy 1 14 billion worth russian jet \n",
              "Name: title, Length: 44267, dtype: object"
            ]
          },
          "execution_count": 162,
          "metadata": {},
          "output_type": "execute_result"
        }
      ],
      "source": [
        "df[\"title\"]"
      ]
    },
    {
      "cell_type": "code",
      "execution_count": 163,
      "id": "MOv-JnbwIylg",
      "metadata": {
        "colab": {
          "base_uri": "https://localhost:8080/",
          "height": 458
        },
        "id": "MOv-JnbwIylg",
        "outputId": "d238209b-87dd-4bbd-ef97-e4a8ceb26b77"
      },
      "outputs": [
        {
          "data": {
            "text/plain": [
              "0        donald trump wish american happy new year leav...\n",
              "1        house intelligence committee chairman devin nu...\n",
              "2        friday revealed milwaukee sheriff david clarke...\n",
              "3        christmas day donald trump announced work foll...\n",
              "4        pope francis annual christmas day message rebu...\n",
              "                               ...                        \n",
              "44893    brussels reuters nato ally tuesday welcomed pr...\n",
              "44894    london reuters lexisnexis provider legal regul...\n",
              "44895    minsk reuters shadow disused soviet era factor...\n",
              "44896    moscow reuters vatican secretary state cardina...\n",
              "44897    jakarta reuters indonesia buy 11 sukhoi fighte...\n",
              "Name: text, Length: 44267, dtype: object"
            ]
          },
          "execution_count": 163,
          "metadata": {},
          "output_type": "execute_result"
        }
      ],
      "source": [
        "df[\"text\"]"
      ]
    },
    {
      "cell_type": "code",
      "execution_count": 164,
      "id": "Rw7qQoMQGrkI",
      "metadata": {
        "colab": {
          "base_uri": "https://localhost:8080/",
          "height": 458
        },
        "id": "Rw7qQoMQGrkI",
        "outputId": "7d6474f6-80db-4e10-ff12-24acc6d4d759"
      },
      "outputs": [
        {
          "data": {
            "text/plain": [
              "0        1\n",
              "1        1\n",
              "2        1\n",
              "3        1\n",
              "4        1\n",
              "        ..\n",
              "44893    0\n",
              "44894    0\n",
              "44895    0\n",
              "44896    0\n",
              "44897    0\n",
              "Name: category, Length: 44267, dtype: int64"
            ]
          },
          "execution_count": 164,
          "metadata": {},
          "output_type": "execute_result"
        }
      ],
      "source": [
        "df[\"category\"]"
      ]
    },
    {
      "cell_type": "code",
      "execution_count": 165,
      "id": "540dfe55",
      "metadata": {
        "id": "540dfe55"
      },
      "outputs": [],
      "source": [
        "#splitting the dataset - training: 67%, testing: 33%\n",
        "from sklearn.model_selection import train_test_split\n",
        "\n",
        "# Combine title and text into one feature\n",
        "X = df[\"title\"] + \" \" + df[\"text\"]\n",
        "y=df[\"category\"] # target\n"
      ]
    },
    {
      "cell_type": "code",
      "execution_count": 166,
      "id": "6c04e17d",
      "metadata": {},
      "outputs": [
        {
          "data": {
            "text/plain": [
              "0        donald trump sends embarrassing new year eve m...\n",
              "1        drunk bragging trump staffer started russian c...\n",
              "2        sheriff david clarke internet joke threatening...\n",
              "3        trump obsessed obama coded website image  chri...\n",
              "4        pope francis called donald trump christmas spe...\n",
              "                               ...                        \n",
              "44893    fully committed nato back new u approach afgha...\n",
              "44894    lexisnexis withdrew product chinese market  lo...\n",
              "44895    minsk cultural hub authority  minsk reuters sh...\n",
              "44896    vatican upbeat possibility pope francis visiti...\n",
              "44897    indonesia buy 1 14 billion worth russian jet  ...\n",
              "Length: 44267, dtype: object"
            ]
          },
          "execution_count": 166,
          "metadata": {},
          "output_type": "execute_result"
        }
      ],
      "source": [
        "X"
      ]
    },
    {
      "cell_type": "code",
      "execution_count": 167,
      "id": "b45e4abd",
      "metadata": {},
      "outputs": [
        {
          "data": {
            "text/plain": [
              "0        1\n",
              "1        1\n",
              "2        1\n",
              "3        1\n",
              "4        1\n",
              "        ..\n",
              "44893    0\n",
              "44894    0\n",
              "44895    0\n",
              "44896    0\n",
              "44897    0\n",
              "Name: category, Length: 44267, dtype: int64"
            ]
          },
          "execution_count": 167,
          "metadata": {},
          "output_type": "execute_result"
        }
      ],
      "source": [
        "y"
      ]
    },
    {
      "cell_type": "code",
      "execution_count": 168,
      "id": "86f56790",
      "metadata": {},
      "outputs": [
        {
          "name": "stdout",
          "output_type": "stream",
          "text": [
            "113472\n"
          ]
        }
      ],
      "source": [
        "from sklearn.feature_extraction.text import TfidfVectorizer\n",
        "\n",
        "vec = TfidfVectorizer()\n",
        "X_tfidf = vec.fit_transform(X)\n",
        "print(len(vec.get_feature_names_out()))"
      ]
    },
    {
      "cell_type": "markdown",
      "id": "061ceee2",
      "metadata": {},
      "source": [
        "Since we have more than 100k vectors, droping half of it would be ideal to make the model simplier."
      ]
    },
    {
      "cell_type": "code",
      "execution_count": 169,
      "id": "e53376bd",
      "metadata": {},
      "outputs": [],
      "source": [
        "# TF-IDF set up\n",
        "\n",
        "tf_idf = TfidfVectorizer(max_features=50000, # Keep only the top 50,000 words\n",
        "                         ngram_range=(1,2),  # Use unigrams + bigrams for better context\n",
        "                         sublinear_tf=True,  # Apply log scale to prevent common word\n",
        "                         max_df=0.7,  # Ignore words that appear in more than 70% of documents\n",
        "                         min_df=5)    # Ignore words that appear in fewer than 5 documents"
      ]
    },
    {
      "cell_type": "code",
      "execution_count": 170,
      "id": "789f0cc7",
      "metadata": {},
      "outputs": [],
      "source": [
        "X_train, X_test, y_train, y_test = train_test_split(X, y, test_size=0.33, random_state=42)"
      ]
    },
    {
      "cell_type": "code",
      "execution_count": 171,
      "id": "67af58af",
      "metadata": {},
      "outputs": [
        {
          "data": {
            "text/plain": [
              "3014     arizona gop poised ban social justice class ev...\n",
              "8634     trump big plan sarah palin terrifying video  p...\n",
              "23047    rosie donnell think martial law order prevent ...\n",
              "28180    democratic opposition u high court nominee gro...\n",
              "762      watch according trump obama care 17 year old t...\n",
              "                               ...                        \n",
              "6265     hillary message miss universe called miss pigg...\n",
              "11306    shocking report 50 baby 24 state born medicaid...\n",
              "38789    tpp country discus agreement principle trade d...\n",
              "860      trump stole idea north korean propaganda parod...\n",
              "16224    wow new report irs tell 1 million taxpayer ill...\n",
              "Length: 29658, dtype: object"
            ]
          },
          "execution_count": 171,
          "metadata": {},
          "output_type": "execute_result"
        }
      ],
      "source": [
        "X_train"
      ]
    },
    {
      "cell_type": "code",
      "execution_count": 172,
      "id": "26a4da4a",
      "metadata": {},
      "outputs": [
        {
          "data": {
            "text/plain": [
              "3014     1\n",
              "8634     1\n",
              "23047    1\n",
              "28180    0\n",
              "762      1\n",
              "        ..\n",
              "6265     1\n",
              "11306    1\n",
              "38789    0\n",
              "860      1\n",
              "16224    1\n",
              "Name: category, Length: 29658, dtype: int64"
            ]
          },
          "execution_count": 172,
          "metadata": {},
          "output_type": "execute_result"
        }
      ],
      "source": [
        "y_train"
      ]
    },
    {
      "cell_type": "markdown",
      "id": "3098843c",
      "metadata": {},
      "source": [
        "## Logistic Regression"
      ]
    },
    {
      "cell_type": "code",
      "execution_count": 173,
      "id": "d4f0361e",
      "metadata": {},
      "outputs": [],
      "source": [
        "from sklearn.pipeline import Pipeline\n",
        "from sklearn.linear_model import LogisticRegression"
      ]
    },
    {
      "cell_type": "code",
      "execution_count": 174,
      "id": "34b153f0",
      "metadata": {},
      "outputs": [],
      "source": [
        "text_clf_lr = Pipeline([\n",
        "    (\"tfidf\", tf_idf),\n",
        "    (\"clf\", LogisticRegression(\n",
        "        solver='liblinear',   # works well for small–medium datasets and binary classification\n",
        "        max_iter=1000,        # ensure convergence\n",
        "        random_state=42\n",
        "    ))\n",
        "])\n"
      ]
    },
    {
      "cell_type": "code",
      "execution_count": 175,
      "id": "01ca729e",
      "metadata": {},
      "outputs": [
        {
          "name": "stdout",
          "output_type": "stream",
          "text": [
            "Best parameters: {'clf__C': 1.0, 'clf__penalty': 'l1'}\n",
            "Best CV F1 score: 0.9939291620127356\n"
          ]
        }
      ],
      "source": [
        "from sklearn.model_selection import GridSearchCV\n",
        "\n",
        "param_grid_lr = {\n",
        "    \"clf__C\": [0.01, 0.1, 0.5, 1.0],   # regularization strength\n",
        "    \"clf__penalty\": ['l1', 'l2']            # L1 = Lasso, L2 = Ridge regularization\n",
        "}\n",
        "\n",
        "grid_search_lr = GridSearchCV(\n",
        "    text_clf_lr,\n",
        "    param_grid=param_grid_lr,\n",
        "    cv=5,\n",
        "    scoring='f1',\n",
        "    n_jobs=-1\n",
        ")\n",
        "\n",
        "grid_search_lr.fit(X_train, y_train)\n",
        "\n",
        "print(\"Best parameters:\", grid_search_lr.best_params_)\n",
        "print(\"Best CV F1 score:\", grid_search_lr.best_score_)\n"
      ]
    },
    {
      "cell_type": "code",
      "execution_count": 176,
      "id": "45f5b6fd",
      "metadata": {},
      "outputs": [],
      "source": [
        "best_lr = grid_search_lr.best_estimator_\n"
      ]
    },
    {
      "cell_type": "code",
      "execution_count": 177,
      "id": "15acdb82",
      "metadata": {},
      "outputs": [],
      "source": [
        "y_pred_lr = best_lr.predict(X_test)\n"
      ]
    },
    {
      "cell_type": "code",
      "execution_count": 178,
      "id": "44223468",
      "metadata": {},
      "outputs": [
        {
          "name": "stdout",
          "output_type": "stream",
          "text": [
            "Training Accuracy: 0.995\n",
            "Testing Accuracy: 0.994\n"
          ]
        }
      ],
      "source": [
        "from sklearn.metrics import confusion_matrix, ConfusionMatrixDisplay, accuracy_score, roc_curve, auc, precision_recall_curve, classification_report\n",
        "\n",
        "train_acc_lr = best_lr.score(X_train, y_train)\n",
        "test_acc_lr = accuracy_score(y_test, y_pred_lr)\n",
        "\n",
        "print(f\"Training Accuracy: {train_acc_lr:.3f}\")\n",
        "print(f\"Testing Accuracy: {test_acc_lr:.3f}\")\n"
      ]
    },
    {
      "cell_type": "code",
      "execution_count": 179,
      "id": "7e5a190c",
      "metadata": {},
      "outputs": [
        {
          "data": {
            "image/png": "[encoded data removed]",
            "text/plain": [
              "<Figure size 640x480 with 2 Axes>"
            ]
          },
          "metadata": {},
          "output_type": "display_data"
        }
      ],
      "source": [
        "cm_lr = confusion_matrix(y_test, y_pred_lr, labels=best_lr.classes_)\n",
        "disp_lr = ConfusionMatrixDisplay(confusion_matrix=cm_lr, display_labels=best_lr.classes_)\n",
        "disp_lr.plot(cmap=plt.cm.Blues)\n",
        "plt.title(\"Logistic Regression - Confusion Matrix\")\n",
        "plt.show()\n"
      ]
    },
    {
      "cell_type": "code",
      "execution_count": 180,
      "id": "600a9330",
      "metadata": {},
      "outputs": [
        {
          "data": {
            "image/png": "[encoded data removed]",
            "text/plain": [
              "<Figure size 600x400 with 1 Axes>"
            ]
          },
          "metadata": {},
          "output_type": "display_data"
        },
        {
          "data": {
            "image/png": "[encoded data removed]",
            "text/plain": [
              "<Figure size 600x400 with 1 Axes>"
            ]
          },
          "metadata": {},
          "output_type": "display_data"
        }
      ],
      "source": [
        "from sklearn.metrics import roc_curve, auc, precision_recall_curve\n",
        "\n",
        "y_score_lr = best_lr.decision_function(X_test)\n",
        "fpr_lr, tpr_lr, _ = roc_curve(y_test, y_score_lr)\n",
        "roc_auc_lr = auc(fpr_lr, tpr_lr)\n",
        "\n",
        "plt.figure(figsize=(6,4))\n",
        "plt.plot(fpr_lr, tpr_lr, color='darkorange', lw=2, label=f'ROC curve (AUC = {roc_auc_lr:.3f})')\n",
        "plt.plot([0,1], [0,1], color='navy', lw=2, linestyle='--')\n",
        "plt.xlabel('False Positive Rate')\n",
        "plt.ylabel('True Positive Rate')\n",
        "plt.title('Logistic Regression - ROC Curve')\n",
        "plt.legend(loc=\"lower right\")\n",
        "plt.show()\n",
        "\n",
        "precision_lr, recall_lr, _ = precision_recall_curve(y_test, y_score_lr)\n",
        "plt.figure(figsize=(6,4))\n",
        "plt.plot(recall_lr, precision_lr, color='purple', lw=2)\n",
        "plt.xlabel('Recall')\n",
        "plt.ylabel('Precision')\n",
        "plt.title('Logistic Regression - Precision-Recall Curve')\n",
        "plt.show()\n"
      ]
    },
    {
      "cell_type": "code",
      "execution_count": 181,
      "id": "d3e7b1f0",
      "metadata": {},
      "outputs": [
        {
          "name": "stdout",
          "output_type": "stream",
          "text": [
            "              precision    recall  f1-score   support\n",
            "\n",
            "           0       0.99      1.00      0.99      7047\n",
            "           1       1.00      0.99      0.99      7562\n",
            "\n",
            "    accuracy                           0.99     14609\n",
            "   macro avg       0.99      0.99      0.99     14609\n",
            "weighted avg       0.99      0.99      0.99     14609\n",
            "\n"
          ]
        }
      ],
      "source": [
        "print(classification_report(y_test, y_pred_lr))\n"
      ]
    },
    {
      "cell_type": "code",
      "execution_count": 182,
      "id": "c3a7323f",
      "metadata": {},
      "outputs": [
        {
          "name": "stdout",
          "output_type": "stream",
          "text": [
            "Overall Accuracy: 0.9944554726538435\n"
          ]
        }
      ],
      "source": [
        "print(\"Overall Accuracy:\", accuracy_score(y_test, y_pred_lr))\n"
      ]
    },
    {
      "cell_type": "code",
      "execution_count": 183,
      "id": "79a9100f",
      "metadata": {},
      "outputs": [
        {
          "data": {
            "text/plain": [
              "['best_logreg_model.pkl']"
            ]
          },
          "execution_count": 183,
          "metadata": {},
          "output_type": "execute_result"
        }
      ],
      "source": [
        "import joblib\n",
        "\n",
        "joblib.dump(best_lr, \"best_logreg_model.pkl\")\n"
      ]
    },
    {
      "cell_type": "code",
      "execution_count": 184,
      "id": "741f8edd",
      "metadata": {},
      "outputs": [],
      "source": [
        "loaded_lr_model = joblib.load(\"best_logreg_model.pkl\")"
      ]
    },
    {
      "cell_type": "markdown",
      "id": "add429d5",
      "metadata": {},
      "source": [
        "Now we will see if the model can capture real new on 19/10/2025, which is extracted from ABC news. Link to the news: [Link](https://www.abc.net.au/news/2025-10-19/hamas-hands-over-two-more-israeli-hostages-remains/105908710)"
      ]
    },
    {
      "cell_type": "code",
      "execution_count": 185,
      "id": "6f98d46e",
      "metadata": {},
      "outputs": [],
      "source": [
        "real_article = \"\"\"\n",
        "US warns of 'imminent' Hamas attack on Palestinians in Gaza in potential ceasefire breach\n",
        "\n",
        "In short:\n",
        "The United States has received \"credible reports\" indicating an imminent violation by Hamas of the ceasefire with Israel in Gaza.\n",
        "\n",
        "The US State Department says it has informed guarantors of the ceasefire of the reports of a potential attack on Palestinians, which would breach the agreement.\n",
        "\n",
        "What's next?\n",
        "The department says that \"measures will be taken to protect the people of Gaza\" and safeguard the ceasefire if Hamas does attack Palestinians.\n",
        "\n",
        "Link copied\n",
        "\n",
        "Share article\n",
        "The guarantor nations of the ceasefire between Israel and Hamas have been alerted to \"credible reports indicating an imminent\" violation by the Palestinian terror organisation against the people of Gaza, according to the United States Department of State.\n",
        "\n",
        "In a statement released on Saturday, local time, the department said: \"This planned attack against Palestinian civilians would constitute a direct and grave violation of the ceasefire agreement and undermine the significant progress achieved through mediation efforts.\n",
        "\n",
        "\"The guarantors demand Hamas uphold its obligations under the ceasefire terms.\n",
        "\n",
        "\"Should Hamas proceed with this attack, measures will be taken to protect the people of Gaza and preserve the integrity of the ceasefire.\n",
        "\n",
        "\"The United States and the other guarantors remain resolute in our commitment to ensuring the safety of civilians, maintaining calm on the ground, and advancing peace and prosperity for the people of Gaza and the region as a whole.\"\n",
        "\n",
        "Palestinians sitting and kneeling in lines on prayer mats amid piles of concrete rubble in between damaged pillars\n",
        "The US State Department says it has become aware of \"credible reports\" of an imminent attack by Hamas on Palestinians living in Gaza. (AP: Jehad Alshrafi)\n",
        "\n",
        "Egypt, Qatar and Turkey are among the guarantor nations tasked with ensuring the ceasefire's success. No further details were disclosed about the potential attack.\n",
        "\n",
        "US President Donald Trump has previously warned on social media that \"if Hamas continues to kill people in Gaza, which was not the deal, we will have no choice but to go in and kill them\".\n",
        "\n",
        "He later clarified he would not send US troops into Gaza after launching the threat against Hamas.\n",
        "\n",
        "Mr Trump's hostile rhetoric represented a shift after initially expressing nonchalance about Hamas killings, saying they had taken out \"a couple of gangs that were very bad\".\n",
        "\n",
        "Hamas hands over remains\n",
        "The US State Department alert came hours after Israel said Hamas had handed over \"two coffins of deceased hostages\" from Gaza, while Israeli Prime Minister Benjamin Netanyahu increased pressure on the militant group to share the remaining bodies more quickly under their ceasefire.\n",
        "\n",
        "No names for the hostages were immediately released by Mr Netanyahu's office.\n",
        "\n",
        "Dozens of people in dark clothing standing on mounds of rubble watching yellow excavators digging in piles of brown dirt\n",
        "The remains of two more Israeli hostages have been returned, as excavations continue in Gaza to locate more captives' bodies. (AP: Jehad Alshrafi)\n",
        "\n",
        "Israel announced earlier on Saturday that Gaza's sole crossing with the outside world, Rafah, would stay closed \"until further notice\", tying it to Hamas's release of remains.\n",
        "\n",
        "On Thursday, it had said the crossing likely would reopen on Sunday.\n",
        "\n",
        "Hamas has handed over the remains of 12 of the 28 dead hostages in Gaza, a key step in the week-old ceasefire process meant to end two years of war.\n",
        "\n",
        "The militant group says devastation of the Gaza Strip and Israeli military control of certain areas have slowed the handover.\n",
        "\n",
        "Israel identifies remains of 10th hostage handed over by Hamas\n",
        "A man in a blue shirt with grey hair\n",
        "Eliyahu Margalit's body was found after two bulldozers ploughed the earth in the city of Khan Younis.\n",
        "\n",
        "The latest transfer followed Israel receiving the remains of a 10th hostage, identified as Eliyahu Margalit. The 76-year-old was abducted from kibbutz Nir Oz during the October 7 attack.\n",
        "\n",
        "His remains were found after bulldozers ploughed areas in the southern city of Khan Younis.\n",
        "\n",
        "The statement by Mr Netanyahu's office on the Rafah crossing came shortly after the Palestinian embassy in Egypt said it would reopen on Monday for people returning to Gaza.\n",
        "\n",
        "Hamas called Mr Netanyahu's decision a violation of the ceasefire deal.\n",
        "\n",
        "The Rafah crossing has been closed since May 2024, when Israel took control of the Gaza side.\n",
        "\n",
        "A fully reopened crossing would make it easier for Gazans to seek medical treatment, travel or visit family in Egypt, which is home to tens of thousands of Palestinians.\n",
        "\n",
        "Palestinian bodies returned unidentified\n",
        "Meanwhile, Israel has been accused of returning the bodies of Palestinians with no names, only numbers. Gaza's Health Ministry posts photos of them online, hoping families will come forward.\n",
        "\n",
        "\"Just like they took their captives, we want our captives. Bring me my son, bring all our kids back,\" said a tearful Iman Sakani, whose son went missing during the war. She was among dozens of anxious families waiting at Nasser hospital.\n",
        "\n",
        "One woman knelt, crying over a body after identifying it.\n",
        "\n",
        "Palestinian women in black and brown garments standing and kneeling while crying next to a body covered in a white sheet\n",
        "Mourners gather around a Palestinian who was killed by Israeli fire after crossing the ceasefire line, according to the Hamas-run Civil Defense. (AP: Yousef Al Zanoun)\n",
        "\n",
        "As part of the ceasefire agreement, Israel on Saturday returned 15 bodies of Palestinians to Gaza, bringing the total it has returned to 135.\n",
        "\n",
        "Meanwhile, Gaza's ruins are being scoured for the dead. Newly recovered bodies brought the Palestinian toll above 68,000, according to Gaza's Health Ministry. Thousands of people are still missing, according to the Red Cross.\n",
        "\n",
        "Hamas-led militants killed around 1,200 people, mostly civilians, and abducted 251 people in the attack on southern Israel that sparked the war on October 7, 2023.\n",
        "\"\"\""
      ]
    },
    {
      "cell_type": "code",
      "execution_count": 186,
      "id": "544d4949",
      "metadata": {},
      "outputs": [
        {
          "name": "stdout",
          "output_type": "stream",
          "text": [
            "[1]\n"
          ]
        }
      ],
      "source": [
        "pred_real = loaded_lr_model.predict([real_article])\n",
        "print(pred_real)"
      ]
    },
    {
      "cell_type": "markdown",
      "id": "76a73165",
      "metadata": {},
      "source": [
        "Now let's see if it can detect fake news as well. [Link](https://spacexmania.com/just-in-elon-musk-buys-abc-for-10-billion-cancels-the-view-immediately-after-acquisition/)"
      ]
    },
    {
      "cell_type": "code",
      "execution_count": 187,
      "id": "13caa005",
      "metadata": {},
      "outputs": [],
      "source": [
        "fake_article = \"\"\"\n",
        "\n",
        "Just In: Elon Musk Buys ABC For $10 Billion, Cancels The View Immediately After Acquisition\n",
        "\n",
        "In a move that could only be described as peak 2025 energy, billionaire tech overlord and part-time space cowboy Elon Musk has reportedly purchased ABC for the casual price of $10 billion — or, as he put it, “about what I find under my Tesla seats every fiscal quarter.”\n",
        "\n",
        "\n",
        "Within minutes of the ink drying, Musk allegedly called an emergency company-wide meeting from his private jet (code-named Liberty Falcon 2) to announce his first executive decision:\n",
        "\n",
        "“The hens of The View have clucked their last cluck.”\n",
        "\n",
        "And just like that, one of television’s longest-running talk shows vanished faster than a Tesla stock dip after an Elon tweet.\n",
        "\n",
        "\n",
        "The Deal That Shocked Everyone — Including ABC\n",
        "Industry insiders say the acquisition came out of nowhere. Disney executives were reportedly in the middle of discussing a new Frozen spinoff when Musk appeared in the boardroom holographically, holding a Dogecoin and grinning like a man who just found out gravity is optional.\n",
        "\n",
        "“I offered them $8 billion at first,” Musk told reporters at a press conference held on the roof of SpaceX headquarters. “But then I remembered I tipped my barista more than that last week, so I rounded up.”\n",
        "\n",
        "Sources close to the negotiations claim Disney agreed after Musk promised to “finally make the network cool again” and to launch a new primetime show called So You Think You Can Rocket.\n",
        "\n",
        "Bye Bye, Daytime Drama\n",
        "The first item on Musk’s rebranding agenda: The View, the show known for its panel of opinionated hosts and even more opinionated shouting matches.\n",
        "\n",
        "\n",
        "When asked why he canceled it so abruptly, Musk shrugged:\n",
        "\n",
        "“Every time I tuned in, it felt like being trapped in a chicken coop that subscribed to Twitter Blue.”\n",
        "\n",
        "Former View fans immediately took to social media to express confusion, rage, and in some cases, cautious optimism. One user wrote:\n",
        "\n",
        "“I’m not saying Elon is right, but I also haven’t finished a full episode of The View since 2017.”\n",
        "\n",
        "Meanwhile, others lamented the loss of their daily caffeine-fueled debates about celebrity scandals and obscure policy proposals. “It’s like losing a slightly irritating friend,” said one viewer. “You complain about her constantly, but deep down you know she kept your blood pressure high enough to feel alive.”\n",
        "\n",
        "A New Vision for ABC\n",
        "According to internal memos, Musk plans to rebrand ABC as “The American Broadcast for Conscience”, featuring programming that “inspires innovation, logic, and occasionally flamethrowers.”\n",
        "\n",
        "Tentative new shows include:\n",
        "\n",
        "“Real Housewives of Mars Colony 1” — a docuseries about SpaceX engineers trying to find love (and oxygen).\n",
        "\n",
        "“Shark Tank: Galactic Edition”, where contestants pitch business ideas to aliens with superior technology.\n",
        "\n",
        "“Are You Smarter Than an Algorithm?” — a quiz show hosted entirely by ChatGPT holograms.\n",
        "\n",
        "When asked if he plans to appear on-air himself, Musk laughed. “Only if it involves rockets or trolling,” he said. “Otherwise, I’ll let the humanoid robots handle it. They’ve got great comedic timing.”\n",
        "\n",
        "Reactions Across the Nation\n",
        "Politicians, celebrities, and social media warriors wasted no time chiming in.\n",
        "\n",
        "Florida Governor Ron DeSantis tweeted, “Finally, a network brave enough to cancel something that needed canceling.”\n",
        "\n",
        "Pop icon Taylor Swift posted a cryptic X message simply reading, “It’s me. Hi. I might buy NBC next.”\n",
        "\n",
        "And in a move that stunned no one, Musk’s friend Joe Rogan announced he’ll be launching a spin-off show on ABC’s new schedule called Viewpoint: The Bro Edition, featuring guests like Jordan Peterson, Lex Fridman, and “whoever brings the most elk jerky.”\n",
        "\n",
        "Meanwhile, ABC employees were reportedly split. Some are optimistic about the fresh direction, while others have begun quietly rehearsing their résumés.\n",
        "\n",
        "Former Hosts Speak Out\n",
        "Though most of The View’s former co-hosts remained tight-lipped, one of them broke silence on social media, posting:\n",
        "\n",
        "“We might be off the air, but the conversation never stops.”\n",
        "\n",
        "To which Musk replied within five minutes:\n",
        "\n",
        "“Conversation’s great. Just… maybe a little less yelling.”\n",
        "\n",
        "Within hours, Musk had replaced The View’s official Twitter handle with a new one: @TheNewViewFromSpace, which now features daily inspirational quotes and memes about free speech, electric cars, and artificial intelligence learning to make better morning TV.\n",
        "\n",
        "The Ripple Effect\n",
        "The cancellation has sent shockwaves through the entertainment industry. Rival networks are reportedly re-evaluating their programming, fearing Musk might start an intergalactic bidding war.\n",
        "\n",
        "Netflix has already announced a new documentary titled Elon Musk: Man, Myth, Meme, while Paramount+ countered with Who Wants to Be a Billionaire (With No Filter)?\n",
        "\n",
        "Even CNN tried to ride the wave, announcing a reboot of Crossfire starring two holographic versions of Elon Musk debating each other about Mars colonization.\n",
        "\n",
        "Free Speech… or Free Chaos?\n",
        "Critics argue Musk’s takeover is part of his broader quest to “own every form of conversation on Earth.” They point to his ownership of X, Tesla, SpaceX, Neuralink, and now ABC, dubbing him “the Walt Disney of unfiltered opinions.”\n",
        "\n",
        "Musk, however, dismisses the accusation. “I’m not controlling the narrative,” he said. “I’m just setting it on fire and watching what happens.”\n",
        "\n",
        "Analysts expect ratings to skyrocket. “Love him or hate him, Elon makes people watch,” said media consultant Dana Silver. “You can’t look away. It’s like a car crash piloted by a genius.”\n",
        "\n",
        "What’s Next for The Billionaire Broadcaster?\n",
        "Rumors suggest Musk isn’t done yet. Sources say he’s eyeing PBS next — not for profit, but to “finally make Downton Abbey take place on Mars.”\n",
        "\n",
        "When asked whether he has any regrets about buying ABC, Musk simply smiled.\n",
        "\n",
        "“No regrets. Just upgrades.”\n",
        "\n",
        "He then winked at the press and added, “Besides, someone had to put The View out of its misery. I just did it humanely — with a buyout and a flamethrower.”\n",
        "\"\"\""
      ]
    },
    {
      "cell_type": "code",
      "execution_count": 188,
      "id": "529f2c45",
      "metadata": {},
      "outputs": [
        {
          "name": "stdout",
          "output_type": "stream",
          "text": [
            "[1]\n"
          ]
        }
      ],
      "source": [
        "pred_fake = loaded_lr_model.predict([fake_article])\n",
        "print(pred_fake)"
      ]
    }
  ],
  "metadata": {
    "colab": {
      "provenance": []
    },
    "kernelspec": {
      "display_name": "Python 3",
      "language": "python",
      "name": "python3"
    },
    "language_info": {
      "codemirror_mode": {
        "name": "ipython",
        "version": 3
      },
      "file_extension": ".py",
      "mimetype": "text/x-python",
      "name": "python",
      "nbconvert_exporter": "python",
      "pygments_lexer": "ipython3",
      "version": "3.13.2"
    }
  },
  "nbformat": 4,
  "nbformat_minor": 5
}
